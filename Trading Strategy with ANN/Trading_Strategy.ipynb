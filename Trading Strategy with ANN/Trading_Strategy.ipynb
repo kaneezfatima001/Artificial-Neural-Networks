{
 "cells": [
  {
   "cell_type": "markdown",
   "id": "64dad5e5",
   "metadata": {},
   "source": [
    "# Problem Statement:"
   ]
  },
  {
   "cell_type": "markdown",
   "id": "0a97f827",
   "metadata": {},
   "source": [
    "The objective of this project is to perform a comprehensive analysis of historical stock market data for a selection of top 10 companies, gathered from publicly available sources, specifically from www.nasdaq.com. The dataset comprises 25,161 rows, each representing the stock market data for a specific company on distinct dates. The primary goal is to apply data analysis and machine learning techniques to extract meaningful insights and make informed predictions related to the stock market behavior."
   ]
  },
  {
   "cell_type": "markdown",
   "id": "459cc087",
   "metadata": {},
   "source": [
    "# Loading Libraries and Importing Dataset"
   ]
  },
  {
   "cell_type": "markdown",
   "id": "a737ec12",
   "metadata": {},
   "source": [
    "using the `warnings` module to suppress warning messages that might be generated during the analysis. By using `warnings.filterwarnings(\"ignore\")`, we ensure that any warning messages related to deprecated functions, potential data issues, or other non-critical issues will not be displayed. This helps in maintaining a cleaner and more focused analysis output."
   ]
  },
  {
   "cell_type": "code",
   "execution_count": 1,
   "id": "e58a34b8",
   "metadata": {},
   "outputs": [],
   "source": [
    "import warnings\n",
    "warnings.filterwarnings(\"ignore\")"
   ]
  },
  {
   "cell_type": "markdown",
   "id": "4cca2729",
   "metadata": {},
   "source": [
    "Importing various Python libraries that are essential for our data analysis and machine learning tasks. Each library serves a specific purpose in our analysis pipeline:\n",
    "\n",
    "- `pandas`: Used for data manipulation and handling DataFrames and using its perticular specifications.\n",
    "- `matplotlib.pyplot`: Used for creating visualizations such as plots and charts.\n",
    "- `numpy`: Used for numerical computations and array operations.\n",
    "- `scipy.stats` and `scipy.optimize.minimize`: Used for statistical computations and optimization.\n",
    "- `statsmodels.tsa.arima.model.ARIMA`: Used for implementing the ARIMA time-series forecasting model.\n",
    "- `sklearn.metrics.mean_squared_error`: Used for calculating the mean squared error for model evaluation.\n",
    "- `sklearn.impute.SimpleImputer`: Used for handling missing values in the data.\n",
    "- `sklearn.model_selection.train_test_split`: Used for splitting data into training and testing sets.\n",
    "- `sklearn.linear_model.LogisticRegression`: Used for implementing the logistic regression classifier.\n",
    "- `sklearn.ensemble.RandomForestClassifier`: Used for creating a random forest classifier.\n",
    "- `sklearn.metrics.accuracy_score`, `sklearn.metrics.precision_score`, `sklearn.metrics.recall_score`, `sklearn.metrics.f1_score`: Used for evaluating classification model performance.\n",
    "- `sklearn.preprocessing.StandardScaler`: Used for standardizing feature values.\n",
    "- `sklearn.cluster.KMeans`: Used for performing K-means clustering.\n",
    "- `tensorflow`: Used for building and training artificial neural networks."
   ]
  },
  {
   "cell_type": "code",
   "execution_count": 2,
   "id": "6dc0e1de",
   "metadata": {},
   "outputs": [],
   "source": [
    "import pandas as pd\n",
    "import matplotlib.pyplot as plt\n",
    "import numpy as np\n",
    "\n",
    "import scipy.stats\n",
    "from scipy.optimize import minimize\n",
    "\n",
    "from statsmodels.tsa.arima.model import ARIMA\n",
    "\n",
    "from sklearn.metrics import mean_squared_error\n",
    "from sklearn.impute import SimpleImputer\n",
    "from sklearn.model_selection import train_test_split\n",
    "from sklearn.linear_model import LogisticRegression\n",
    "from sklearn.ensemble import RandomForestClassifier\n",
    "from sklearn.metrics import accuracy_score, precision_score, recall_score, f1_score\n",
    "\n",
    "from sklearn.preprocessing import StandardScaler\n",
    "from sklearn.cluster import KMeans\n",
    "\n",
    "import tensorflow as tf"
   ]
  },
  {
   "cell_type": "markdown",
   "id": "7529cf44",
   "metadata": {},
   "source": [
    "Using the `pd.read_csv()` function from the `pandas` library to read in the dataset named 'trading_Strategy.csv'. This dataset likely contains the historical stock market data for the selected companies. "
   ]
  },
  {
   "cell_type": "code",
   "execution_count": 3,
   "id": "d0f55558",
   "metadata": {},
   "outputs": [],
   "source": [
    "# Reading in the dataset\n",
    "stocks = pd.read_csv('trading_Strategy.csv')"
   ]
  },
  {
   "cell_type": "markdown",
   "id": "d9a3aa5b",
   "metadata": {},
   "source": [
    "# Exporatory Data Analysis"
   ]
  },
  {
   "cell_type": "markdown",
   "id": "b499dc96",
   "metadata": {},
   "source": [
    "Using the `.head()` method on the `stocks` DataFrame. This method displays the first few rows of the dataset, providing a quick overview of its structure and contents. By inspecting the initial rows of the dataset, we can get a sense of the columns, data types, and values present in the dataset. This step is crucial for understanding the data before proceeding with further analysis and processing."
   ]
  },
  {
   "cell_type": "code",
   "execution_count": 4,
   "id": "40cc3beb",
   "metadata": {},
   "outputs": [
    {
     "data": {
      "text/html": [
       "<div>\n",
       "<style scoped>\n",
       "    .dataframe tbody tr th:only-of-type {\n",
       "        vertical-align: middle;\n",
       "    }\n",
       "\n",
       "    .dataframe tbody tr th {\n",
       "        vertical-align: top;\n",
       "    }\n",
       "\n",
       "    .dataframe thead th {\n",
       "        text-align: right;\n",
       "    }\n",
       "</style>\n",
       "<table border=\"1\" class=\"dataframe\">\n",
       "  <thead>\n",
       "    <tr style=\"text-align: right;\">\n",
       "      <th></th>\n",
       "      <th>Company</th>\n",
       "      <th>Date</th>\n",
       "      <th>Close/Last</th>\n",
       "      <th>Volume</th>\n",
       "      <th>Open</th>\n",
       "      <th>High</th>\n",
       "      <th>Low</th>\n",
       "    </tr>\n",
       "  </thead>\n",
       "  <tbody>\n",
       "    <tr>\n",
       "      <th>0</th>\n",
       "      <td>AAPL</td>\n",
       "      <td>7/17/2023</td>\n",
       "      <td>$193.99</td>\n",
       "      <td>50520160</td>\n",
       "      <td>$191.90</td>\n",
       "      <td>$194.32</td>\n",
       "      <td>$191.81</td>\n",
       "    </tr>\n",
       "    <tr>\n",
       "      <th>1</th>\n",
       "      <td>AAPL</td>\n",
       "      <td>7/14/2023</td>\n",
       "      <td>$190.69</td>\n",
       "      <td>41616240</td>\n",
       "      <td>$190.23</td>\n",
       "      <td>$191.18</td>\n",
       "      <td>$189.63</td>\n",
       "    </tr>\n",
       "    <tr>\n",
       "      <th>2</th>\n",
       "      <td>AAPL</td>\n",
       "      <td>7/13/2023</td>\n",
       "      <td>$190.54</td>\n",
       "      <td>41342340</td>\n",
       "      <td>$190.50</td>\n",
       "      <td>$191.19</td>\n",
       "      <td>$189.78</td>\n",
       "    </tr>\n",
       "    <tr>\n",
       "      <th>3</th>\n",
       "      <td>AAPL</td>\n",
       "      <td>7/12/2023</td>\n",
       "      <td>$189.77</td>\n",
       "      <td>60750250</td>\n",
       "      <td>$189.68</td>\n",
       "      <td>$191.70</td>\n",
       "      <td>$188.47</td>\n",
       "    </tr>\n",
       "    <tr>\n",
       "      <th>4</th>\n",
       "      <td>AAPL</td>\n",
       "      <td>7/11/2023</td>\n",
       "      <td>$188.08</td>\n",
       "      <td>46638120</td>\n",
       "      <td>$189.16</td>\n",
       "      <td>$189.30</td>\n",
       "      <td>$186.60</td>\n",
       "    </tr>\n",
       "  </tbody>\n",
       "</table>\n",
       "</div>"
      ],
      "text/plain": [
       "  Company       Date Close/Last    Volume      Open      High       Low\n",
       "0    AAPL  7/17/2023   $193.99   50520160  $191.90   $194.32   $191.81 \n",
       "1    AAPL  7/14/2023   $190.69   41616240  $190.23   $191.18   $189.63 \n",
       "2    AAPL  7/13/2023   $190.54   41342340  $190.50   $191.19   $189.78 \n",
       "3    AAPL  7/12/2023   $189.77   60750250  $189.68   $191.70   $188.47 \n",
       "4    AAPL  7/11/2023   $188.08   46638120  $189.16   $189.30   $186.60 "
      ]
     },
     "execution_count": 4,
     "metadata": {},
     "output_type": "execute_result"
    }
   ],
   "source": [
    "# This will show a quick overview of the dataset\n",
    "stocks.head()"
   ]
  },
  {
   "cell_type": "markdown",
   "id": "7552b717",
   "metadata": {},
   "source": [
    "Using the `.dtypes` attribute on the `stocks` DataFrame. This attribute displays the data types of each column in the dataset. Checking the data types is essential to ensure that the columns have been correctly interpreted as the intended data types (e.g., numeric, categorical, datetime). Correctly identifying data types is crucial for performing accurate analyses and applying appropriate data preprocessing techniques."
   ]
  },
  {
   "cell_type": "code",
   "execution_count": 5,
   "id": "9bcdea93",
   "metadata": {},
   "outputs": [
    {
     "data": {
      "text/plain": [
       "Company       object\n",
       "Date          object\n",
       "Close/Last    object\n",
       "Volume         int64\n",
       "Open          object\n",
       "High          object\n",
       "Low           object\n",
       "dtype: object"
      ]
     },
     "execution_count": 5,
     "metadata": {},
     "output_type": "execute_result"
    }
   ],
   "source": [
    "stocks.dtypes"
   ]
  },
  {
   "cell_type": "markdown",
   "id": "07e36940",
   "metadata": {},
   "source": [
    "Using the `.describe()` method on the `stocks` DataFrame. This method calculates and displays summary statistics for the numerical columns in the dataset. The summary includes statistics such as mean, standard deviation, minimum, maximum, and quartiles. Reviewing these summary statistics provides insights into the central tendency and spread of the data, highlighting potential outliers and patterns that might exist in the dataset."
   ]
  },
  {
   "cell_type": "code",
   "execution_count": 6,
   "id": "5ec73602",
   "metadata": {},
   "outputs": [
    {
     "data": {
      "text/html": [
       "<div>\n",
       "<style scoped>\n",
       "    .dataframe tbody tr th:only-of-type {\n",
       "        vertical-align: middle;\n",
       "    }\n",
       "\n",
       "    .dataframe tbody tr th {\n",
       "        vertical-align: top;\n",
       "    }\n",
       "\n",
       "    .dataframe thead th {\n",
       "        text-align: right;\n",
       "    }\n",
       "</style>\n",
       "<table border=\"1\" class=\"dataframe\">\n",
       "  <thead>\n",
       "    <tr style=\"text-align: right;\">\n",
       "      <th></th>\n",
       "      <th>Volume</th>\n",
       "    </tr>\n",
       "  </thead>\n",
       "  <tbody>\n",
       "    <tr>\n",
       "      <th>count</th>\n",
       "      <td>2.516000e+04</td>\n",
       "    </tr>\n",
       "    <tr>\n",
       "      <th>mean</th>\n",
       "      <td>5.131764e+07</td>\n",
       "    </tr>\n",
       "    <tr>\n",
       "      <th>std</th>\n",
       "      <td>6.399143e+07</td>\n",
       "    </tr>\n",
       "    <tr>\n",
       "      <th>min</th>\n",
       "      <td>1.143952e+06</td>\n",
       "    </tr>\n",
       "    <tr>\n",
       "      <th>25%</th>\n",
       "      <td>1.200394e+07</td>\n",
       "    </tr>\n",
       "    <tr>\n",
       "      <th>50%</th>\n",
       "      <td>2.672083e+07</td>\n",
       "    </tr>\n",
       "    <tr>\n",
       "      <th>75%</th>\n",
       "      <td>6.857269e+07</td>\n",
       "    </tr>\n",
       "    <tr>\n",
       "      <th>max</th>\n",
       "      <td>1.065209e+09</td>\n",
       "    </tr>\n",
       "  </tbody>\n",
       "</table>\n",
       "</div>"
      ],
      "text/plain": [
       "             Volume\n",
       "count  2.516000e+04\n",
       "mean   5.131764e+07\n",
       "std    6.399143e+07\n",
       "min    1.143952e+06\n",
       "25%    1.200394e+07\n",
       "50%    2.672083e+07\n",
       "75%    6.857269e+07\n",
       "max    1.065209e+09"
      ]
     },
     "execution_count": 6,
     "metadata": {},
     "output_type": "execute_result"
    }
   ],
   "source": [
    "stocks.describe()"
   ]
  },
  {
   "cell_type": "markdown",
   "id": "2ede7f73",
   "metadata": {},
   "source": [
    "Converting the 'Date' column in the `stocks` DataFrame into a date-time format using the `pd.to_datetime()` function. By applying `.dt.normalize()`, we extract only the date part, effectively setting the time component to midnight. This conversion is crucial when dealing with time-series data analysis, as it allows us to aggregate and analyze data on a daily basis. The resulting `date_time_interval` Series represents the date values in a standardized format for further analysis."
   ]
  },
  {
   "cell_type": "code",
   "execution_count": 7,
   "id": "b8bb5959",
   "metadata": {},
   "outputs": [
    {
     "data": {
      "text/plain": [
       "0       2023-07-17\n",
       "1       2023-07-14\n",
       "2       2023-07-13\n",
       "3       2023-07-12\n",
       "4       2023-07-11\n",
       "           ...    \n",
       "25155   2013-07-24\n",
       "25156   2013-07-23\n",
       "25157   2013-07-22\n",
       "25158   2013-07-19\n",
       "25159   2013-07-18\n",
       "Name: Date, Length: 25160, dtype: datetime64[ns]"
      ]
     },
     "execution_count": 7,
     "metadata": {},
     "output_type": "execute_result"
    }
   ],
   "source": [
    "import datetime\n",
    "date_time_interval = pd.to_datetime(stocks.Date).dt.normalize()\n",
    "date_time_interval"
   ]
  },
  {
   "cell_type": "markdown",
   "id": "73edfab2",
   "metadata": {},
   "source": [
    "Updating the 'Date' column in the `stocks` DataFrame with the values from the `date_time_interval` Series. This step is crucial to ensure that the 'Date' column now contains the standardized date values with the time component set to midnight. By updating the 'Date' column in this manner, we align the data with our desired date-time interval for subsequent time-series analysis and visualizations."
   ]
  },
  {
   "cell_type": "code",
   "execution_count": 8,
   "id": "df8561fd",
   "metadata": {},
   "outputs": [],
   "source": [
    "stocks.Date = date_time_interval"
   ]
  },
  {
   "cell_type": "markdown",
   "id": "5dedc933",
   "metadata": {},
   "source": [
    "Rechecking the data types of the columns in the `stocks` DataFrame using the `.dtypes` attribute. By verifying the data types after the previous transformations, we can confirm that the 'Date' column has been successfully converted to the desired date-time format. Ensuring that the data types are accurate and aligned with our analysis objectives is crucial for maintaining the integrity and accuracy of the subsequent analysis steps."
   ]
  },
  {
   "cell_type": "code",
   "execution_count": 9,
   "id": "e84bf3ce",
   "metadata": {},
   "outputs": [
    {
     "data": {
      "text/plain": [
       "Company               object\n",
       "Date          datetime64[ns]\n",
       "Close/Last            object\n",
       "Volume                 int64\n",
       "Open                  object\n",
       "High                  object\n",
       "Low                   object\n",
       "dtype: object"
      ]
     },
     "execution_count": 9,
     "metadata": {},
     "output_type": "execute_result"
    }
   ],
   "source": [
    "stocks.dtypes"
   ]
  },
  {
   "cell_type": "markdown",
   "id": "f4f7a537",
   "metadata": {},
   "source": [
    "Applying lambda functions to remove dollar signs ('$') from the 'Close/Last', 'Open', 'High', and 'Low' columns in the `stocks` DataFrame. These columns likely represent stock price values with dollar symbols. By using the `.map()` function along with a lambda function, we extract the numeric portion of the values and convert them to floating-point numbers. This step is essential to ensure that the stock price values are in a format suitable for further analysis, such as calculations, visualizations, and modeling."
   ]
  },
  {
   "cell_type": "code",
   "execution_count": 10,
   "id": "7d8766c8",
   "metadata": {},
   "outputs": [],
   "source": [
    "stocks['Close/Last'] = stocks['Close/Last'].map(lambda x:float(x.replace('$','')))\n",
    "stocks['Open'] = stocks['Open'].map(lambda x:float(x.replace('$','')))\n",
    "stocks['High'] = stocks['High'].map(lambda x:float(x.replace('$','')))\n",
    "stocks['Low'] = stocks['Low'].map(lambda x:float(x.replace('$','')))"
   ]
  },
  {
   "cell_type": "markdown",
   "id": "10895657",
   "metadata": {},
   "source": [
    "Rechecking the data types of the columns in the `stocks` DataFrame using the `.dtypes` attribute. After the previous transformations to remove dollar signs and convert to float, we can confirm that the 'Close/Last', 'Open', 'High', and 'Low' columns have been successfully converted to floating-point numbers. Ensuring that the data types are accurate and consistent with the data's nature is crucial for conducting meaningful analysis and modeling tasks."
   ]
  },
  {
   "cell_type": "code",
   "execution_count": 11,
   "id": "2d536a60",
   "metadata": {},
   "outputs": [
    {
     "data": {
      "text/plain": [
       "Company               object\n",
       "Date          datetime64[ns]\n",
       "Close/Last           float64\n",
       "Volume                 int64\n",
       "Open                 float64\n",
       "High                 float64\n",
       "Low                  float64\n",
       "dtype: object"
      ]
     },
     "execution_count": 11,
     "metadata": {},
     "output_type": "execute_result"
    }
   ],
   "source": [
    "stocks.dtypes"
   ]
  },
  {
   "cell_type": "markdown",
   "id": "560082b7",
   "metadata": {},
   "source": [
    "Using the `.rename()` method on the `stocks` DataFrame to rename the 'Close/Last' column to 'Close'. By setting the `inplace` parameter to `True`, we are modifying the DataFrame in place rather than creating a new DataFrame with the modified column names. Renaming columns can enhance clarity and consistency in the dataset, making it easier to refer to specific columns in subsequent analysis and modeling tasks."
   ]
  },
  {
   "cell_type": "code",
   "execution_count": 12,
   "id": "c5c8b10d",
   "metadata": {},
   "outputs": [
    {
     "data": {
      "text/html": [
       "<div>\n",
       "<style scoped>\n",
       "    .dataframe tbody tr th:only-of-type {\n",
       "        vertical-align: middle;\n",
       "    }\n",
       "\n",
       "    .dataframe tbody tr th {\n",
       "        vertical-align: top;\n",
       "    }\n",
       "\n",
       "    .dataframe thead th {\n",
       "        text-align: right;\n",
       "    }\n",
       "</style>\n",
       "<table border=\"1\" class=\"dataframe\">\n",
       "  <thead>\n",
       "    <tr style=\"text-align: right;\">\n",
       "      <th></th>\n",
       "      <th>Company</th>\n",
       "      <th>Date</th>\n",
       "      <th>Close</th>\n",
       "      <th>Volume</th>\n",
       "      <th>Open</th>\n",
       "      <th>High</th>\n",
       "      <th>Low</th>\n",
       "    </tr>\n",
       "  </thead>\n",
       "  <tbody>\n",
       "    <tr>\n",
       "      <th>0</th>\n",
       "      <td>AAPL</td>\n",
       "      <td>2023-07-17</td>\n",
       "      <td>193.99</td>\n",
       "      <td>50520160</td>\n",
       "      <td>191.90</td>\n",
       "      <td>194.32</td>\n",
       "      <td>191.81</td>\n",
       "    </tr>\n",
       "    <tr>\n",
       "      <th>1</th>\n",
       "      <td>AAPL</td>\n",
       "      <td>2023-07-14</td>\n",
       "      <td>190.69</td>\n",
       "      <td>41616240</td>\n",
       "      <td>190.23</td>\n",
       "      <td>191.18</td>\n",
       "      <td>189.63</td>\n",
       "    </tr>\n",
       "    <tr>\n",
       "      <th>2</th>\n",
       "      <td>AAPL</td>\n",
       "      <td>2023-07-13</td>\n",
       "      <td>190.54</td>\n",
       "      <td>41342340</td>\n",
       "      <td>190.50</td>\n",
       "      <td>191.19</td>\n",
       "      <td>189.78</td>\n",
       "    </tr>\n",
       "    <tr>\n",
       "      <th>3</th>\n",
       "      <td>AAPL</td>\n",
       "      <td>2023-07-12</td>\n",
       "      <td>189.77</td>\n",
       "      <td>60750250</td>\n",
       "      <td>189.68</td>\n",
       "      <td>191.70</td>\n",
       "      <td>188.47</td>\n",
       "    </tr>\n",
       "    <tr>\n",
       "      <th>4</th>\n",
       "      <td>AAPL</td>\n",
       "      <td>2023-07-11</td>\n",
       "      <td>188.08</td>\n",
       "      <td>46638120</td>\n",
       "      <td>189.16</td>\n",
       "      <td>189.30</td>\n",
       "      <td>186.60</td>\n",
       "    </tr>\n",
       "    <tr>\n",
       "      <th>...</th>\n",
       "      <td>...</td>\n",
       "      <td>...</td>\n",
       "      <td>...</td>\n",
       "      <td>...</td>\n",
       "      <td>...</td>\n",
       "      <td>...</td>\n",
       "      <td>...</td>\n",
       "    </tr>\n",
       "    <tr>\n",
       "      <th>25155</th>\n",
       "      <td>NFLX</td>\n",
       "      <td>2013-07-24</td>\n",
       "      <td>34.47</td>\n",
       "      <td>33395351</td>\n",
       "      <td>35.67</td>\n",
       "      <td>36.04</td>\n",
       "      <td>34.31</td>\n",
       "    </tr>\n",
       "    <tr>\n",
       "      <th>25156</th>\n",
       "      <td>NFLX</td>\n",
       "      <td>2013-07-23</td>\n",
       "      <td>35.75</td>\n",
       "      <td>76792963</td>\n",
       "      <td>35.91</td>\n",
       "      <td>37.46</td>\n",
       "      <td>35.17</td>\n",
       "    </tr>\n",
       "    <tr>\n",
       "      <th>25157</th>\n",
       "      <td>NFLX</td>\n",
       "      <td>2013-07-22</td>\n",
       "      <td>37.42</td>\n",
       "      <td>44791095</td>\n",
       "      <td>38.12</td>\n",
       "      <td>38.39</td>\n",
       "      <td>36.73</td>\n",
       "    </tr>\n",
       "    <tr>\n",
       "      <th>25158</th>\n",
       "      <td>NFLX</td>\n",
       "      <td>2013-07-19</td>\n",
       "      <td>37.80</td>\n",
       "      <td>18098750</td>\n",
       "      <td>38.20</td>\n",
       "      <td>38.28</td>\n",
       "      <td>37.60</td>\n",
       "    </tr>\n",
       "    <tr>\n",
       "      <th>25159</th>\n",
       "      <td>NFLX</td>\n",
       "      <td>2013-07-18</td>\n",
       "      <td>38.06</td>\n",
       "      <td>20418642</td>\n",
       "      <td>38.62</td>\n",
       "      <td>38.62</td>\n",
       "      <td>37.71</td>\n",
       "    </tr>\n",
       "  </tbody>\n",
       "</table>\n",
       "<p>25160 rows × 7 columns</p>\n",
       "</div>"
      ],
      "text/plain": [
       "      Company       Date   Close    Volume    Open    High     Low\n",
       "0        AAPL 2023-07-17  193.99  50520160  191.90  194.32  191.81\n",
       "1        AAPL 2023-07-14  190.69  41616240  190.23  191.18  189.63\n",
       "2        AAPL 2023-07-13  190.54  41342340  190.50  191.19  189.78\n",
       "3        AAPL 2023-07-12  189.77  60750250  189.68  191.70  188.47\n",
       "4        AAPL 2023-07-11  188.08  46638120  189.16  189.30  186.60\n",
       "...       ...        ...     ...       ...     ...     ...     ...\n",
       "25155    NFLX 2013-07-24   34.47  33395351   35.67   36.04   34.31\n",
       "25156    NFLX 2013-07-23   35.75  76792963   35.91   37.46   35.17\n",
       "25157    NFLX 2013-07-22   37.42  44791095   38.12   38.39   36.73\n",
       "25158    NFLX 2013-07-19   37.80  18098750   38.20   38.28   37.60\n",
       "25159    NFLX 2013-07-18   38.06  20418642   38.62   38.62   37.71\n",
       "\n",
       "[25160 rows x 7 columns]"
      ]
     },
     "execution_count": 12,
     "metadata": {},
     "output_type": "execute_result"
    }
   ],
   "source": [
    "stocks.rename(columns={'Close/Last' : 'Close'}, inplace=True)\n",
    "stocks"
   ]
  },
  {
   "cell_type": "markdown",
   "id": "d2ba0662",
   "metadata": {},
   "source": [
    "Using the `.value_counts()` method on the 'Company' column of the `stocks` DataFrame. This method calculates and displays the frequency count of unique values in the 'Company' column. By examining the distribution of companies, we can gain insights into the representation of different companies in the dataset. This step is essential for understanding the data's composition and identifying any potential biases or data imbalance related to company-specific information."
   ]
  },
  {
   "cell_type": "code",
   "execution_count": 13,
   "id": "4f1a7cc7",
   "metadata": {},
   "outputs": [
    {
     "data": {
      "text/plain": [
       "AAPL    2516\n",
       "SBUX    2516\n",
       "MSFT    2516\n",
       "CSCO    2516\n",
       "QCOM    2516\n",
       "META    2516\n",
       "AMZN    2516\n",
       "TSLA    2516\n",
       "AMD     2516\n",
       "NFLX    2516\n",
       "Name: Company, dtype: int64"
      ]
     },
     "execution_count": 13,
     "metadata": {},
     "output_type": "execute_result"
    }
   ],
   "source": [
    "stocks.Company.value_counts()"
   ]
  },
  {
   "cell_type": "markdown",
   "id": "1d0c8a7d",
   "metadata": {},
   "source": [
    "Using the `.unique()` method followed by `.size` on the 'Company' column of the `stocks` DataFrame. This combination of methods calculates and displays the count of unique companies present in the dataset. Counting the unique companies helps us understand the breadth of companies covered in the dataset. This information is valuable for assessing the dataset's coverage of various companies and the potential diversity of the analysis and modeling tasks that can be performed."
   ]
  },
  {
   "cell_type": "code",
   "execution_count": 14,
   "id": "8c735959",
   "metadata": {},
   "outputs": [
    {
     "data": {
      "text/plain": [
       "10"
      ]
     },
     "execution_count": 14,
     "metadata": {},
     "output_type": "execute_result"
    }
   ],
   "source": [
    "stocks.Company.unique().size"
   ]
  },
  {
   "cell_type": "markdown",
   "id": "c7ad192b",
   "metadata": {},
   "source": [
    "Using the `.isna()` method followed by `.sum()` on the `stocks` DataFrame. This combination of methods calculates and displays the sum of missing values (NaN) for each column in the dataset. By assessing the presence of missing data in different columns, we can identify which features might have incomplete information. Dealing with missing data appropriately is crucial for ensuring the accuracy and reliability of the analysis and modeling outcomes."
   ]
  },
  {
   "cell_type": "code",
   "execution_count": 15,
   "id": "4b416e02",
   "metadata": {},
   "outputs": [
    {
     "data": {
      "text/plain": [
       "Company    0\n",
       "Date       0\n",
       "Close      0\n",
       "Volume     0\n",
       "Open       0\n",
       "High       0\n",
       "Low        0\n",
       "dtype: int64"
      ]
     },
     "execution_count": 15,
     "metadata": {},
     "output_type": "execute_result"
    }
   ],
   "source": [
    "stocks.isna().sum()"
   ]
  },
  {
   "cell_type": "markdown",
   "id": "2cf557da",
   "metadata": {},
   "source": [
    "Using the `.describe()` method on the `stocks` DataFrame once again. By revisiting the summary statistics, we can observe how the dataset has evolved after the various data transformations, conversions, and renaming. This updated summary provides insights into the central tendency, spread, and distribution of the data's numerical columns. Comparing this updated summary to the initial one helps us understand the impact of our data preprocessing steps on the dataset's characteristics."
   ]
  },
  {
   "cell_type": "code",
   "execution_count": 16,
   "id": "c85d2e6e",
   "metadata": {},
   "outputs": [
    {
     "data": {
      "text/html": [
       "<div>\n",
       "<style scoped>\n",
       "    .dataframe tbody tr th:only-of-type {\n",
       "        vertical-align: middle;\n",
       "    }\n",
       "\n",
       "    .dataframe tbody tr th {\n",
       "        vertical-align: top;\n",
       "    }\n",
       "\n",
       "    .dataframe thead th {\n",
       "        text-align: right;\n",
       "    }\n",
       "</style>\n",
       "<table border=\"1\" class=\"dataframe\">\n",
       "  <thead>\n",
       "    <tr style=\"text-align: right;\">\n",
       "      <th></th>\n",
       "      <th>Close</th>\n",
       "      <th>Volume</th>\n",
       "      <th>Open</th>\n",
       "      <th>High</th>\n",
       "      <th>Low</th>\n",
       "    </tr>\n",
       "  </thead>\n",
       "  <tbody>\n",
       "    <tr>\n",
       "      <th>count</th>\n",
       "      <td>25160.000000</td>\n",
       "      <td>2.516000e+04</td>\n",
       "      <td>25160.000000</td>\n",
       "      <td>25160.000000</td>\n",
       "      <td>25160.000000</td>\n",
       "    </tr>\n",
       "    <tr>\n",
       "      <th>mean</th>\n",
       "      <td>102.456078</td>\n",
       "      <td>5.131764e+07</td>\n",
       "      <td>102.431075</td>\n",
       "      <td>103.829650</td>\n",
       "      <td>101.006402</td>\n",
       "    </tr>\n",
       "    <tr>\n",
       "      <th>std</th>\n",
       "      <td>101.991265</td>\n",
       "      <td>6.399143e+07</td>\n",
       "      <td>101.996095</td>\n",
       "      <td>103.529424</td>\n",
       "      <td>100.399650</td>\n",
       "    </tr>\n",
       "    <tr>\n",
       "      <th>min</th>\n",
       "      <td>1.620000</td>\n",
       "      <td>1.143952e+06</td>\n",
       "      <td>1.620000</td>\n",
       "      <td>1.690000</td>\n",
       "      <td>1.610000</td>\n",
       "    </tr>\n",
       "    <tr>\n",
       "      <th>25%</th>\n",
       "      <td>36.567500</td>\n",
       "      <td>1.200394e+07</td>\n",
       "      <td>36.507500</td>\n",
       "      <td>36.890000</td>\n",
       "      <td>36.130000</td>\n",
       "    </tr>\n",
       "    <tr>\n",
       "      <th>50%</th>\n",
       "      <td>65.680000</td>\n",
       "      <td>2.672083e+07</td>\n",
       "      <td>65.650000</td>\n",
       "      <td>66.485000</td>\n",
       "      <td>64.915000</td>\n",
       "    </tr>\n",
       "    <tr>\n",
       "      <th>75%</th>\n",
       "      <td>134.235000</td>\n",
       "      <td>6.857269e+07</td>\n",
       "      <td>134.320000</td>\n",
       "      <td>136.232500</td>\n",
       "      <td>132.660000</td>\n",
       "    </tr>\n",
       "    <tr>\n",
       "      <th>max</th>\n",
       "      <td>691.690000</td>\n",
       "      <td>1.065209e+09</td>\n",
       "      <td>692.350000</td>\n",
       "      <td>700.990000</td>\n",
       "      <td>686.090000</td>\n",
       "    </tr>\n",
       "  </tbody>\n",
       "</table>\n",
       "</div>"
      ],
      "text/plain": [
       "              Close        Volume          Open          High           Low\n",
       "count  25160.000000  2.516000e+04  25160.000000  25160.000000  25160.000000\n",
       "mean     102.456078  5.131764e+07    102.431075    103.829650    101.006402\n",
       "std      101.991265  6.399143e+07    101.996095    103.529424    100.399650\n",
       "min        1.620000  1.143952e+06      1.620000      1.690000      1.610000\n",
       "25%       36.567500  1.200394e+07     36.507500     36.890000     36.130000\n",
       "50%       65.680000  2.672083e+07     65.650000     66.485000     64.915000\n",
       "75%      134.235000  6.857269e+07    134.320000    136.232500    132.660000\n",
       "max      691.690000  1.065209e+09    692.350000    700.990000    686.090000"
      ]
     },
     "execution_count": 16,
     "metadata": {},
     "output_type": "execute_result"
    }
   ],
   "source": [
    "stocks.describe()"
   ]
  },
  {
   "cell_type": "markdown",
   "id": "ebae447b",
   "metadata": {},
   "source": [
    "Using the `.head()` method on the `stocks` DataFrame to display the first few rows of the processed dataset. These rows represent a preview of the data after all the previous transformations, conversions, and cleaning steps. By examining this preview, we can verify that our data preprocessing steps have been applied correctly and that the data is now in a suitable format for conducting analysis and modeling tasks."
   ]
  },
  {
   "cell_type": "code",
   "execution_count": 17,
   "id": "597091b5",
   "metadata": {},
   "outputs": [
    {
     "data": {
      "text/html": [
       "<div>\n",
       "<style scoped>\n",
       "    .dataframe tbody tr th:only-of-type {\n",
       "        vertical-align: middle;\n",
       "    }\n",
       "\n",
       "    .dataframe tbody tr th {\n",
       "        vertical-align: top;\n",
       "    }\n",
       "\n",
       "    .dataframe thead th {\n",
       "        text-align: right;\n",
       "    }\n",
       "</style>\n",
       "<table border=\"1\" class=\"dataframe\">\n",
       "  <thead>\n",
       "    <tr style=\"text-align: right;\">\n",
       "      <th></th>\n",
       "      <th>Company</th>\n",
       "      <th>Date</th>\n",
       "      <th>Close</th>\n",
       "      <th>Volume</th>\n",
       "      <th>Open</th>\n",
       "      <th>High</th>\n",
       "      <th>Low</th>\n",
       "    </tr>\n",
       "  </thead>\n",
       "  <tbody>\n",
       "    <tr>\n",
       "      <th>0</th>\n",
       "      <td>AAPL</td>\n",
       "      <td>2023-07-17</td>\n",
       "      <td>193.99</td>\n",
       "      <td>50520160</td>\n",
       "      <td>191.90</td>\n",
       "      <td>194.32</td>\n",
       "      <td>191.81</td>\n",
       "    </tr>\n",
       "    <tr>\n",
       "      <th>1</th>\n",
       "      <td>AAPL</td>\n",
       "      <td>2023-07-14</td>\n",
       "      <td>190.69</td>\n",
       "      <td>41616240</td>\n",
       "      <td>190.23</td>\n",
       "      <td>191.18</td>\n",
       "      <td>189.63</td>\n",
       "    </tr>\n",
       "    <tr>\n",
       "      <th>2</th>\n",
       "      <td>AAPL</td>\n",
       "      <td>2023-07-13</td>\n",
       "      <td>190.54</td>\n",
       "      <td>41342340</td>\n",
       "      <td>190.50</td>\n",
       "      <td>191.19</td>\n",
       "      <td>189.78</td>\n",
       "    </tr>\n",
       "    <tr>\n",
       "      <th>3</th>\n",
       "      <td>AAPL</td>\n",
       "      <td>2023-07-12</td>\n",
       "      <td>189.77</td>\n",
       "      <td>60750250</td>\n",
       "      <td>189.68</td>\n",
       "      <td>191.70</td>\n",
       "      <td>188.47</td>\n",
       "    </tr>\n",
       "    <tr>\n",
       "      <th>4</th>\n",
       "      <td>AAPL</td>\n",
       "      <td>2023-07-11</td>\n",
       "      <td>188.08</td>\n",
       "      <td>46638120</td>\n",
       "      <td>189.16</td>\n",
       "      <td>189.30</td>\n",
       "      <td>186.60</td>\n",
       "    </tr>\n",
       "  </tbody>\n",
       "</table>\n",
       "</div>"
      ],
      "text/plain": [
       "  Company       Date   Close    Volume    Open    High     Low\n",
       "0    AAPL 2023-07-17  193.99  50520160  191.90  194.32  191.81\n",
       "1    AAPL 2023-07-14  190.69  41616240  190.23  191.18  189.63\n",
       "2    AAPL 2023-07-13  190.54  41342340  190.50  191.19  189.78\n",
       "3    AAPL 2023-07-12  189.77  60750250  189.68  191.70  188.47\n",
       "4    AAPL 2023-07-11  188.08  46638120  189.16  189.30  186.60"
      ]
     },
     "execution_count": 17,
     "metadata": {},
     "output_type": "execute_result"
    }
   ],
   "source": [
    "stocks.head()"
   ]
  },
  {
   "cell_type": "markdown",
   "id": "94745a61",
   "metadata": {},
   "source": [
    "Using the `groupby()` method on the `stocks` DataFrame to group the data based on the 'Company' column. The result is stored in a dictionary called `company_dfs`, where each key represents a unique company name and the corresponding value is a DataFrame containing data specific to that company. Splitting the dataset by company allows us to perform company-specific analyses and modeling, tailoring our approach to the characteristics of each individual company's stock market data."
   ]
  },
  {
   "cell_type": "code",
   "execution_count": 18,
   "id": "ca6f7133",
   "metadata": {},
   "outputs": [],
   "source": [
    "# Split the dataset into separate DataFrames based on each company\n",
    "company_dfs = dict(list(stocks.groupby('Company')))"
   ]
  },
  {
   "cell_type": "markdown",
   "id": "aa423841",
   "metadata": {},
   "source": [
    "Using a loop to iterate through each company's DataFrame within the `company_dfs` dictionary. For each company, we are using the `plt.plot()` function from the `matplotlib.pyplot` library to create line plots of the closing prices over time. Each line plot corresponds to a specific company's closing prices.\n",
    "\n",
    "The subsequent lines of code customize the plot by adding labels to the axes, setting a title, and adding a legend to differentiate between the different companies' data.\n",
    "\n",
    "Finally, the `plt.show()` function is used to display the plot, allowing us to visually compare the closing stock prices of different companies over time."
   ]
  },
  {
   "cell_type": "code",
   "execution_count": 19,
   "id": "f97eb416",
   "metadata": {},
   "outputs": [
    {
     "data": {
      "image/png": "[encoded data removed]",
      "text/plain": [
       "<Figure size 640x480 with 1 Axes>"
      ]
     },
     "metadata": {},
     "output_type": "display_data"
    }
   ],
   "source": [
    "# Plotting the closing prices for each company\n",
    "for Company, company_df in company_dfs.items():\n",
    "    plt.plot(company_df['Date'], company_df['Close'], label=Company)\n",
    "\n",
    "# Customize the plot\n",
    "plt.xlabel('Years')\n",
    "plt.ylabel('Closing Price')\n",
    "plt.title('Closing Stock Prices over Time')\n",
    "plt.legend()\n",
    "\n",
    "# Display the plot\n",
    "plt.show()"
   ]
  },
  {
   "cell_type": "markdown",
   "id": "d0043c9e",
   "metadata": {},
   "source": [
    "#  Corelation Analysis"
   ]
  },
  {
   "cell_type": "markdown",
   "id": "51edb7d8",
   "metadata": {},
   "source": [
    "Calculating the correlation coefficient between the 'Close' prices and 'Volume' of a specific company's stock using Pearson's correlation coefficient (Pearson's r). This is done by first extracting the 'Close' and 'Volume' columns from the company's DataFrame.\n",
    "\n",
    "The `scipy.stats.pearsonr()` function from the `scipy.stats` module is then used to compute the Pearson correlation coefficient and its associated p-value. The Pearson correlation coefficient quantifies the linear relationship between the two variables, 'Close' and 'Volume', with values ranging from -1 (perfect negative correlation) to 1 (perfect positive correlation). The p-value indicates the statistical significance of the computed correlation.\n",
    "\n",
    "By analyzing the correlation between these variables, we gain insights into whether changes in stock prices are associated with changes in trading volumes for the specific company under consideration.\n"
   ]
  },
  {
   "cell_type": "code",
   "execution_count": 20,
   "id": "2ff24ca0",
   "metadata": {},
   "outputs": [
    {
     "data": {
      "text/plain": [
       "PearsonRResult(statistic=-0.07225618850800399, pvalue=0.00028640846220395896)"
      ]
     },
     "execution_count": 20,
     "metadata": {},
     "output_type": "execute_result"
    }
   ],
   "source": [
    "# The correlation coefficient\n",
    "x = company_df['Close']\n",
    "y = company_df['Volume']\n",
    "# Pearson's r\n",
    "scipy.stats.pearsonr(x, y) "
   ]
  },
  {
   "cell_type": "markdown",
   "id": "8528ee3e",
   "metadata": {},
   "source": [
    "Calculating the Spearman's correlation coefficient between the 'Close' prices and 'Volume' of a specific company's stock. The `scipy.stats.spearmanr()` function from the `scipy.stats` module is used to compute the Spearman's correlation coefficient and its associated p-value.\n",
    "\n",
    "Spearman's correlation coefficient assesses the monotonic relationship (whether the variables increase or decrease together) between the two variables, 'Close' and 'Volume', without assuming a linear relationship. The coefficient ranges from -1 (perfect negative monotonic relationship) to 1 (perfect positive monotonic relationship), with the p-value indicating the statistical significance of the correlation.\n",
    "\n",
    "Using Spearman's correlation provides insights into the strength and direction of the relationship between stock prices and trading volumes, while allowing for non-linear trends."
   ]
  },
  {
   "cell_type": "code",
   "execution_count": 21,
   "id": "2f49129c",
   "metadata": {},
   "outputs": [
    {
     "data": {
      "text/plain": [
       "SignificanceResult(statistic=0.10158454842954281, pvalue=3.288125211616433e-07)"
      ]
     },
     "execution_count": 21,
     "metadata": {},
     "output_type": "execute_result"
    }
   ],
   "source": [
    "# Spearman's r\n",
    "scipy.stats.spearmanr(x, y)"
   ]
  },
  {
   "cell_type": "markdown",
   "id": "b78f676a",
   "metadata": {},
   "source": [
    "Calculating Kendall's tau correlation coefficient between the 'Close' prices and 'Volume' of a specific company's stock. The `scipy.stats.kendalltau()` function from the `scipy.stats` module is used to compute Kendall's tau correlation coefficient and its associated p-value.\n",
    "\n",
    "Kendall's tau measures the strength and direction of the ordinal relationship (order of values) between two variables, 'Close' and 'Volume'. The coefficient ranges from -1 (perfect negative ordinal correlation) to 1 (perfect positive ordinal correlation), with the p-value indicating the statistical significance of the correlation.\n",
    "\n",
    "By using Kendall's tau, we assess the agreement in the rankings of stock prices and trading volumes, providing insights into the monotonic association between the two variables."
   ]
  },
  {
   "cell_type": "code",
   "execution_count": 22,
   "id": "ed2a02dc",
   "metadata": {},
   "outputs": [
    {
     "data": {
      "text/plain": [
       "SignificanceResult(statistic=0.06420951165972344, pvalue=1.3865942668635327e-06)"
      ]
     },
     "execution_count": 22,
     "metadata": {},
     "output_type": "execute_result"
    }
   ],
   "source": [
    "# Kendall's tau\n",
    "scipy.stats.kendalltau(x, y)"
   ]
  },
  {
   "cell_type": "markdown",
   "id": "bf4c0ebe",
   "metadata": {},
   "source": [
    "These correlation coefficients indicate a weak negative correlation between the closing prices and trading volumes for the last company in the dataset. The p-values are very small, suggesting that the correlations are statistically significant."
   ]
  },
  {
   "cell_type": "markdown",
   "id": "40025725",
   "metadata": {},
   "source": [
    "Using the `.corr()` method on the `stocks` DataFrame to calculate the Pearson correlation matrix for all columns in the dataset. The `method='pearson'` parameter specifies that Pearson's correlation coefficient should be used for the calculations.\n",
    "\n",
    "The resulting correlation matrix provides a comprehensive view of the pairwise correlations between all numerical columns in the dataset. Each cell in the matrix represents the Pearson correlation coefficient between two variables. Positive values indicate positive correlation, negative values indicate negative correlation, and values closer to 0 indicate weaker correlation.\n",
    "\n",
    "By analyzing the Pearson correlation matrix, we can identify potential relationships and dependencies between different features in the dataset."
   ]
  },
  {
   "cell_type": "code",
   "execution_count": 23,
   "id": "de12b295",
   "metadata": {},
   "outputs": [
    {
     "name": "stdout",
     "output_type": "stream",
     "text": [
      "Pearson Correlation Matrix:\n"
     ]
    },
    {
     "data": {
      "text/html": [
       "<div>\n",
       "<style scoped>\n",
       "    .dataframe tbody tr th:only-of-type {\n",
       "        vertical-align: middle;\n",
       "    }\n",
       "\n",
       "    .dataframe tbody tr th {\n",
       "        vertical-align: top;\n",
       "    }\n",
       "\n",
       "    .dataframe thead th {\n",
       "        text-align: right;\n",
       "    }\n",
       "</style>\n",
       "<table border=\"1\" class=\"dataframe\">\n",
       "  <thead>\n",
       "    <tr style=\"text-align: right;\">\n",
       "      <th></th>\n",
       "      <th>Close</th>\n",
       "      <th>Volume</th>\n",
       "      <th>Open</th>\n",
       "      <th>High</th>\n",
       "      <th>Low</th>\n",
       "    </tr>\n",
       "  </thead>\n",
       "  <tbody>\n",
       "    <tr>\n",
       "      <th>Close</th>\n",
       "      <td>1.000000</td>\n",
       "      <td>-0.213018</td>\n",
       "      <td>0.999588</td>\n",
       "      <td>0.999784</td>\n",
       "      <td>0.999800</td>\n",
       "    </tr>\n",
       "    <tr>\n",
       "      <th>Volume</th>\n",
       "      <td>-0.213018</td>\n",
       "      <td>1.000000</td>\n",
       "      <td>-0.212988</td>\n",
       "      <td>-0.210444</td>\n",
       "      <td>-0.215782</td>\n",
       "    </tr>\n",
       "    <tr>\n",
       "      <th>Open</th>\n",
       "      <td>0.999588</td>\n",
       "      <td>-0.212988</td>\n",
       "      <td>1.000000</td>\n",
       "      <td>0.999798</td>\n",
       "      <td>0.999791</td>\n",
       "    </tr>\n",
       "    <tr>\n",
       "      <th>High</th>\n",
       "      <td>0.999784</td>\n",
       "      <td>-0.210444</td>\n",
       "      <td>0.999798</td>\n",
       "      <td>1.000000</td>\n",
       "      <td>0.999697</td>\n",
       "    </tr>\n",
       "    <tr>\n",
       "      <th>Low</th>\n",
       "      <td>0.999800</td>\n",
       "      <td>-0.215782</td>\n",
       "      <td>0.999791</td>\n",
       "      <td>0.999697</td>\n",
       "      <td>1.000000</td>\n",
       "    </tr>\n",
       "  </tbody>\n",
       "</table>\n",
       "</div>"
      ],
      "text/plain": [
       "           Close    Volume      Open      High       Low\n",
       "Close   1.000000 -0.213018  0.999588  0.999784  0.999800\n",
       "Volume -0.213018  1.000000 -0.212988 -0.210444 -0.215782\n",
       "Open    0.999588 -0.212988  1.000000  0.999798  0.999791\n",
       "High    0.999784 -0.210444  0.999798  1.000000  0.999697\n",
       "Low     0.999800 -0.215782  0.999791  0.999697  1.000000"
      ]
     },
     "execution_count": 23,
     "metadata": {},
     "output_type": "execute_result"
    }
   ],
   "source": [
    "# Correlation matrices for every column\n",
    "correlation_matrix = stocks.corr(method='pearson')\n",
    "print(\"Pearson Correlation Matrix:\")\n",
    "correlation_matrix"
   ]
  },
  {
   "cell_type": "markdown",
   "id": "070fa561",
   "metadata": {},
   "source": [
    "Once again using the `.corr()` method on the `stocks` DataFrame, but this time with `method='spearman'` to calculate the Spearman correlation matrix for all columns in the dataset.\n",
    "\n",
    "The resulting correlation matrix provides insights into the monotonic relationships between numerical columns. Spearman's correlation captures ordinal relationships, making it suitable for variables with non-linear associations or data that is not normally distributed."
   ]
  },
  {
   "cell_type": "code",
   "execution_count": 24,
   "id": "f5cd74a0",
   "metadata": {},
   "outputs": [
    {
     "name": "stdout",
     "output_type": "stream",
     "text": [
      "\n",
      "Spearman Correlation Matrix:\n"
     ]
    },
    {
     "data": {
      "text/html": [
       "<div>\n",
       "<style scoped>\n",
       "    .dataframe tbody tr th:only-of-type {\n",
       "        vertical-align: middle;\n",
       "    }\n",
       "\n",
       "    .dataframe tbody tr th {\n",
       "        vertical-align: top;\n",
       "    }\n",
       "\n",
       "    .dataframe thead th {\n",
       "        text-align: right;\n",
       "    }\n",
       "</style>\n",
       "<table border=\"1\" class=\"dataframe\">\n",
       "  <thead>\n",
       "    <tr style=\"text-align: right;\">\n",
       "      <th></th>\n",
       "      <th>Close</th>\n",
       "      <th>Volume</th>\n",
       "      <th>Open</th>\n",
       "      <th>High</th>\n",
       "      <th>Low</th>\n",
       "    </tr>\n",
       "  </thead>\n",
       "  <tbody>\n",
       "    <tr>\n",
       "      <th>Close</th>\n",
       "      <td>1.000000</td>\n",
       "      <td>-0.300360</td>\n",
       "      <td>0.999803</td>\n",
       "      <td>0.999897</td>\n",
       "      <td>0.999895</td>\n",
       "    </tr>\n",
       "    <tr>\n",
       "      <th>Volume</th>\n",
       "      <td>-0.300360</td>\n",
       "      <td>1.000000</td>\n",
       "      <td>-0.300299</td>\n",
       "      <td>-0.297646</td>\n",
       "      <td>-0.303254</td>\n",
       "    </tr>\n",
       "    <tr>\n",
       "      <th>Open</th>\n",
       "      <td>0.999803</td>\n",
       "      <td>-0.300299</td>\n",
       "      <td>1.000000</td>\n",
       "      <td>0.999901</td>\n",
       "      <td>0.999888</td>\n",
       "    </tr>\n",
       "    <tr>\n",
       "      <th>High</th>\n",
       "      <td>0.999897</td>\n",
       "      <td>-0.297646</td>\n",
       "      <td>0.999901</td>\n",
       "      <td>1.000000</td>\n",
       "      <td>0.999829</td>\n",
       "    </tr>\n",
       "    <tr>\n",
       "      <th>Low</th>\n",
       "      <td>0.999895</td>\n",
       "      <td>-0.303254</td>\n",
       "      <td>0.999888</td>\n",
       "      <td>0.999829</td>\n",
       "      <td>1.000000</td>\n",
       "    </tr>\n",
       "  </tbody>\n",
       "</table>\n",
       "</div>"
      ],
      "text/plain": [
       "           Close    Volume      Open      High       Low\n",
       "Close   1.000000 -0.300360  0.999803  0.999897  0.999895\n",
       "Volume -0.300360  1.000000 -0.300299 -0.297646 -0.303254\n",
       "Open    0.999803 -0.300299  1.000000  0.999901  0.999888\n",
       "High    0.999897 -0.297646  0.999901  1.000000  0.999829\n",
       "Low     0.999895 -0.303254  0.999888  0.999829  1.000000"
      ]
     },
     "execution_count": 24,
     "metadata": {},
     "output_type": "execute_result"
    }
   ],
   "source": [
    "correlation_matrix = stocks.corr(method='spearman')\n",
    "print(\"\\nSpearman Correlation Matrix:\")\n",
    "correlation_matrix"
   ]
  },
  {
   "cell_type": "markdown",
   "id": "350fcc20",
   "metadata": {},
   "source": [
    "Using the `.corr()` method on the `stocks` DataFrame with `method='kendall'` to calculate the Kendall correlation matrix for all columns in the dataset.\n",
    "\n",
    "The resulting correlation matrix provides insights into the ordinal relationships between numerical columns, similar to Spearman's correlation. However, Kendall's correlation places more emphasis on concordant and discordant pairs of data points, making it particularly useful for smaller sample sizes and detecting monotonic trends.\n",
    "\n",
    "By analyzing the Kendall correlation matrix, we can identify monotonic associations and rank-based relationships between variables, which might reveal hidden patterns in the data."
   ]
  },
  {
   "cell_type": "code",
   "execution_count": 25,
   "id": "9e918c77",
   "metadata": {},
   "outputs": [
    {
     "name": "stdout",
     "output_type": "stream",
     "text": [
      "\n",
      "Kendall Correlation Matrix:\n"
     ]
    },
    {
     "data": {
      "text/html": [
       "<div>\n",
       "<style scoped>\n",
       "    .dataframe tbody tr th:only-of-type {\n",
       "        vertical-align: middle;\n",
       "    }\n",
       "\n",
       "    .dataframe tbody tr th {\n",
       "        vertical-align: top;\n",
       "    }\n",
       "\n",
       "    .dataframe thead th {\n",
       "        text-align: right;\n",
       "    }\n",
       "</style>\n",
       "<table border=\"1\" class=\"dataframe\">\n",
       "  <thead>\n",
       "    <tr style=\"text-align: right;\">\n",
       "      <th></th>\n",
       "      <th>Close</th>\n",
       "      <th>Volume</th>\n",
       "      <th>Open</th>\n",
       "      <th>High</th>\n",
       "      <th>Low</th>\n",
       "    </tr>\n",
       "  </thead>\n",
       "  <tbody>\n",
       "    <tr>\n",
       "      <th>Close</th>\n",
       "      <td>1.000000</td>\n",
       "      <td>-0.206808</td>\n",
       "      <td>0.989036</td>\n",
       "      <td>0.992865</td>\n",
       "      <td>0.992822</td>\n",
       "    </tr>\n",
       "    <tr>\n",
       "      <th>Volume</th>\n",
       "      <td>-0.206808</td>\n",
       "      <td>1.000000</td>\n",
       "      <td>-0.206752</td>\n",
       "      <td>-0.204741</td>\n",
       "      <td>-0.208993</td>\n",
       "    </tr>\n",
       "    <tr>\n",
       "      <th>Open</th>\n",
       "      <td>0.989036</td>\n",
       "      <td>-0.206752</td>\n",
       "      <td>1.000000</td>\n",
       "      <td>0.992980</td>\n",
       "      <td>0.992614</td>\n",
       "    </tr>\n",
       "    <tr>\n",
       "      <th>High</th>\n",
       "      <td>0.992865</td>\n",
       "      <td>-0.204741</td>\n",
       "      <td>0.992980</td>\n",
       "      <td>1.000000</td>\n",
       "      <td>0.990771</td>\n",
       "    </tr>\n",
       "    <tr>\n",
       "      <th>Low</th>\n",
       "      <td>0.992822</td>\n",
       "      <td>-0.208993</td>\n",
       "      <td>0.992614</td>\n",
       "      <td>0.990771</td>\n",
       "      <td>1.000000</td>\n",
       "    </tr>\n",
       "  </tbody>\n",
       "</table>\n",
       "</div>"
      ],
      "text/plain": [
       "           Close    Volume      Open      High       Low\n",
       "Close   1.000000 -0.206808  0.989036  0.992865  0.992822\n",
       "Volume -0.206808  1.000000 -0.206752 -0.204741 -0.208993\n",
       "Open    0.989036 -0.206752  1.000000  0.992980  0.992614\n",
       "High    0.992865 -0.204741  0.992980  1.000000  0.990771\n",
       "Low     0.992822 -0.208993  0.992614  0.990771  1.000000"
      ]
     },
     "execution_count": 25,
     "metadata": {},
     "output_type": "execute_result"
    }
   ],
   "source": [
    "correlation_matrix = stocks.corr(method='kendall')\n",
    "print(\"\\nKendall Correlation Matrix:\")\n",
    "correlation_matrix"
   ]
  },
  {
   "cell_type": "markdown",
   "id": "0dd72e82",
   "metadata": {},
   "source": [
    "Here are some observations:\n",
    "\n",
    "* For some companies like AAPL, AMD, and NFLX, there is a moderate negative correlation between closing prices and trading volumes. This means that as the closing prices increase, the trading volumes tend to decrease and vice versa.\n",
    "* For other companies like TSLA, there is a very weak positive correlation between closing prices and trading volumes. This indicates that there is almost no relationship between these two variables for this particular company.\n",
    "* The correlation coefficients are not very strong, suggesting that the relationship between closing prices and trading volumes varies across different companies."
   ]
  },
  {
   "cell_type": "markdown",
   "id": "e56b5c78",
   "metadata": {},
   "source": [
    "# Top Performer Identification"
   ]
  },
  {
   "cell_type": "markdown",
   "id": "406967f9",
   "metadata": {},
   "source": [
    "**Key Performance Metrics for Stock Market Analysis**\n",
    "\n",
    "When conducting stock market analysis, it's crucial to use key performance metrics to assess the performance and behavior of various companies in the market. In this context, we have identified three essential metrics to evaluate the performance of companies based on historical stock market data.\n",
    "\n",
    "1. **Percentage Price Change:** This metric calculates the percentage change in a company's stock price over a specific time period. It helps identify companies that have experienced significant growth or decline in stock prices. A higher percentage price change indicates a more significant price movement and potential investment opportunities or risks.\n",
    "\n",
    "2. **Average Trading Volume:** The average trading volume measures the average number of shares traded per day for a particular company over a given period. It provides insights into the liquidity and demand for a company's stock. Higher average trading volumes usually indicate more active and liquid stocks, making it easier to buy or sell shares without impacting the stock's price significantly.\n",
    "\n",
    "3. **Daily Volatility:** Volatility measures the degree of price fluctuation in a company's stock on a daily basis. It is commonly calculated as the standard deviation of daily closing prices. High daily volatility implies higher risk and uncertainty, while lower volatility may indicate a stable and less risky stock. Traders and investors often consider volatility when making trading decisions or assessing the potential risk of an investment.\n"
   ]
  },
  {
   "cell_type": "markdown",
   "id": "5742b46c",
   "metadata": {},
   "source": [
    "Now Implementing the process to identify top-performing companies over a specified time period. The chosen time period is set using the `time_period` variable (e.g., yearly).\n",
    "\n",
    "The code performs the following steps:\n",
    "\n",
    "1. Grouping the data by company and the specified time period, using the `groupby()` function along with `pd.Grouper()`. This allows us to aggregate data by the specified time period.\n",
    "2. Calculating performance metrics such as the opening and closing prices at the beginning and end of the time period, as well as the average trading volume during the period.\n",
    "3. Calculating the percentage price change for each company over the time period.\n",
    "4. Calculating the average trading volume and daily volatility for each company.\n",
    "5. Sorting the companies based on multiple performance metrics, such as percentage price change, average volume, and daily volatility, in descending order.\n",
    "6. Displaying the top-performing companies based on the calculated metrics.\n",
    "\n",
    "By executing these steps, we can identify the companies that have exhibited the highest percentage price change, significant trading volume, and relatively low daily volatility over the specified time period, indicating strong performance.\n"
   ]
  },
  {
   "cell_type": "code",
   "execution_count": 26,
   "id": "3b79282e",
   "metadata": {},
   "outputs": [
    {
     "name": "stdout",
     "output_type": "stream",
     "text": [
      "Top Performing Companies:\n"
     ]
    },
    {
     "data": {
      "text/html": [
       "<div>\n",
       "<style scoped>\n",
       "    .dataframe tbody tr th:only-of-type {\n",
       "        vertical-align: middle;\n",
       "    }\n",
       "\n",
       "    .dataframe tbody tr th {\n",
       "        vertical-align: top;\n",
       "    }\n",
       "\n",
       "    .dataframe thead th {\n",
       "        text-align: right;\n",
       "    }\n",
       "</style>\n",
       "<table border=\"1\" class=\"dataframe\">\n",
       "  <thead>\n",
       "    <tr style=\"text-align: right;\">\n",
       "      <th></th>\n",
       "      <th>Company</th>\n",
       "      <th>Date</th>\n",
       "      <th>Close</th>\n",
       "      <th>Volume</th>\n",
       "      <th>Close_first</th>\n",
       "      <th>Price_Change_Percentage</th>\n",
       "      <th>Avg_Volume</th>\n",
       "      <th>Daily_Volatility</th>\n",
       "    </tr>\n",
       "  </thead>\n",
       "  <tbody>\n",
       "    <tr>\n",
       "      <th>108</th>\n",
       "      <td>TSLA</td>\n",
       "      <td>2022-12-31</td>\n",
       "      <td>399.93</td>\n",
       "      <td>8.695692e+07</td>\n",
       "      <td>7.94</td>\n",
       "      <td>4936.901763</td>\n",
       "      <td>1.192828e+08</td>\n",
       "      <td>127.392221</td>\n",
       "    </tr>\n",
       "    <tr>\n",
       "      <th>20</th>\n",
       "      <td>AMD</td>\n",
       "      <td>2022-12-31</td>\n",
       "      <td>150.24</td>\n",
       "      <td>9.141995e+07</td>\n",
       "      <td>4.64</td>\n",
       "      <td>3137.931034</td>\n",
       "      <td>5.258419e+07</td>\n",
       "      <td>47.860020</td>\n",
       "    </tr>\n",
       "    <tr>\n",
       "      <th>107</th>\n",
       "      <td>TSLA</td>\n",
       "      <td>2021-12-31</td>\n",
       "      <td>243.26</td>\n",
       "      <td>8.219330e+07</td>\n",
       "      <td>7.94</td>\n",
       "      <td>2963.727960</td>\n",
       "      <td>1.192828e+08</td>\n",
       "      <td>127.392221</td>\n",
       "    </tr>\n",
       "    <tr>\n",
       "      <th>19</th>\n",
       "      <td>AMD</td>\n",
       "      <td>2021-12-31</td>\n",
       "      <td>92.30</td>\n",
       "      <td>5.125549e+07</td>\n",
       "      <td>4.64</td>\n",
       "      <td>1889.224138</td>\n",
       "      <td>5.258419e+07</td>\n",
       "      <td>47.860020</td>\n",
       "    </tr>\n",
       "    <tr>\n",
       "      <th>75</th>\n",
       "      <td>NFLX</td>\n",
       "      <td>2022-12-31</td>\n",
       "      <td>597.37</td>\n",
       "      <td>1.087698e+07</td>\n",
       "      <td>38.06</td>\n",
       "      <td>1469.548082</td>\n",
       "      <td>1.159333e+07</td>\n",
       "      <td>190.468795</td>\n",
       "    </tr>\n",
       "  </tbody>\n",
       "</table>\n",
       "</div>"
      ],
      "text/plain": [
       "    Company       Date   Close        Volume  Close_first  \\\n",
       "108    TSLA 2022-12-31  399.93  8.695692e+07         7.94   \n",
       "20      AMD 2022-12-31  150.24  9.141995e+07         4.64   \n",
       "107    TSLA 2021-12-31  243.26  8.219330e+07         7.94   \n",
       "19      AMD 2021-12-31   92.30  5.125549e+07         4.64   \n",
       "75     NFLX 2022-12-31  597.37  1.087698e+07        38.06   \n",
       "\n",
       "     Price_Change_Percentage    Avg_Volume  Daily_Volatility  \n",
       "108              4936.901763  1.192828e+08        127.392221  \n",
       "20               3137.931034  5.258419e+07         47.860020  \n",
       "107              2963.727960  1.192828e+08        127.392221  \n",
       "19               1889.224138  5.258419e+07         47.860020  \n",
       "75               1469.548082  1.159333e+07        190.468795  "
      ]
     },
     "execution_count": 26,
     "metadata": {},
     "output_type": "execute_result"
    }
   ],
   "source": [
    "# Define the time period for performance evaluation (e.g., yearly)\n",
    "time_period = 'Y'\n",
    "\n",
    "# Group the data by company and the specified time period, and calculate performance metrics\n",
    "grouped_stocks = stocks.groupby(['Company', pd.Grouper(key='Date', freq=time_period)]).agg({\n",
    "    'Close': 'first',  # Closing price at the beginning of the period\n",
    "    'Close': 'last',   # Closing price at the end of the period\n",
    "    'Volume': 'mean'   # Average trading volume over the period\n",
    "}).reset_index()\n",
    "\n",
    "# Calculate the percentage price change for each company over the time period\n",
    "grouped_stocks['Close_first'] = grouped_stocks.groupby('Company')['Close'].transform('first')\n",
    "grouped_stocks['Price_Change_Percentage'] = ((grouped_stocks['Close'] - grouped_stocks['Close_first']) / grouped_stocks['Close_first']) * 100\n",
    "\n",
    "# Calculate the average trading volume for each company over the time period\n",
    "grouped_stocks['Avg_Volume'] = grouped_stocks.groupby('Company')['Volume'].transform('mean')\n",
    "\n",
    "# Calculate the daily volatility for each company (standard deviation of daily closing prices)\n",
    "grouped_stocks['Daily_Volatility'] = grouped_stocks.groupby('Company')['Close'].transform('std')\n",
    "\n",
    "# Sort the companies based on multiple performance metrics\n",
    "top_performers = grouped_stocks.sort_values(by=['Price_Change_Percentage', 'Avg_Volume', 'Daily_Volatility'], ascending=[False, False, False])\n",
    "\n",
    "# Print the top-performing companies\n",
    "print(\"Top Performing Companies:\")\n",
    "top_performers.head()"
   ]
  },
  {
   "cell_type": "markdown",
   "id": "90a1fc8b",
   "metadata": {},
   "source": [
    "Filtering the previously identified top-performing companies to include only data from the year 2022. This is achieved by using boolean indexing with the condition `top_performers['Date'].dt.year == 2022`.\n",
    "\n",
    "By filtering the data to a specific year, we focus on the performance of these top-performing companies specifically during the year 2022. This allows us to analyze and compare their performance within a targeted time frame."
   ]
  },
  {
   "cell_type": "code",
   "execution_count": 27,
   "id": "8396dfdf",
   "metadata": {},
   "outputs": [],
   "source": [
    "# Filter the data to include only the year 2022\n",
    "top_performers_2022 = top_performers[top_performers['Date'].dt.year == 2022]"
   ]
  },
  {
   "cell_type": "markdown",
   "id": "e7b45d7c",
   "metadata": {},
   "source": [
    "Creating a single graph with subplots to visualize various performance metrics for the top-performing companies in the year 2022.\n",
    "\n",
    "The code performs the following steps:\n",
    "\n",
    "1. Creates a figure with four subplots using `plt.subplots()`.\n",
    "2. In the first subplot, iterates through each top-performing company and plots their closing prices over time. Each company is differentiated by using different colors and markers.\n",
    "3. Sets labels, titles, and grids for each subplot.\n",
    "4. Uses the second, third, and fourth subplots to create bar charts for the percentage price change, average trading volume, and daily volatility in 2022, respectively.\n",
    "5. Adjusts the layout using `plt.tight_layout()` to prevent overlapping of plot elements.\n",
    "6. Displays the combined graph and bar charts using `plt.show()`.\n",
    "\n",
    "By visualizing the closing prices, percentage price change, average trading volume, and daily volatility, we can gain insights into the performance trends and characteristics of the top-performing companies during the year 2022."
   ]
  },
  {
   "cell_type": "code",
   "execution_count": 28,
   "id": "eaeda617",
   "metadata": {},
   "outputs": [
    {
     "data": {
      "image/png": "[encoded data removed]",
      "text/plain": [
       "<Figure size 2000x500 with 4 Axes>"
      ]
     },
     "metadata": {},
     "output_type": "display_data"
    }
   ],
   "source": [
    "# Create a single graph to visualize the closing prices over time for the top-performing companies\n",
    "fig, axs = plt.subplots(1, 4, figsize=(20, 5))\n",
    "\n",
    "# Iterate through each top-performing company and plot the closing prices with different colors\n",
    "for company in top_performers['Company'].unique():\n",
    "    company_data = top_performers[top_performers['Company'] == company]\n",
    "    axs[0].plot(company_data['Date'], company_data['Close'], label=company, marker='o')\n",
    "\n",
    "axs[0].set_ylabel('Closing Price')\n",
    "axs[0].set_title('Top Performing Companies - Performance Trend')\n",
    "axs[0].grid(True)\n",
    "axs[0].legend()\n",
    "\n",
    "\n",
    "# Bar chart for percentage price change in 2022\n",
    "axs[1].bar(top_performers_2022['Company'], top_performers_2022['Price_Change_Percentage'])\n",
    "axs[1].set_ylabel('Percentage Price Change')\n",
    "axs[1].set_title('Top Performing Companies - Percentage Price Change (2022)')\n",
    "axs[1].grid(True)\n",
    "plt.sca(axs[1])\n",
    "plt.xticks(rotation=45)\n",
    "\n",
    "# Bar chart for average trading volume in 2022\n",
    "axs[2].bar(top_performers_2022['Company'], top_performers_2022['Avg_Volume'])\n",
    "axs[2].set_ylabel('Average Trading Volume')\n",
    "axs[2].set_title('Top Performing Companies - Average Trading Volume (2022)')\n",
    "axs[2].grid(True)\n",
    "plt.sca(axs[2])\n",
    "plt.xticks(rotation=45)\n",
    "\n",
    "# Bar chart for daily volatility in 2022\n",
    "axs[3].bar(top_performers_2022['Company'], top_performers_2022['Daily_Volatility'])\n",
    "axs[3].set_ylabel('Daily Volatility')\n",
    "axs[3].set_title('Top Performing Companies - Daily Volatility (2022)')\n",
    "axs[3].grid(True)\n",
    "plt.sca(axs[3])\n",
    "plt.xticks(rotation=45)\n",
    "\n",
    "# Adjust the layout to avoid overlapping\n",
    "plt.tight_layout()\n",
    "\n",
    "# Show the graphs and bar charts for the year 2022\n",
    "plt.show()"
   ]
  },
  {
   "cell_type": "markdown",
   "id": "3b690d71",
   "metadata": {},
   "source": [
    "* From the line chart, you can observe how the closing prices of these companies fluctuate over the year, identifying any upward or downward trends.\n",
    "* The Bar corresponding to TSLA represents the highest percentage price change among these companies, indicating that TSLA experienced the most significant price increase or decrease during the year.\n",
    "* The bar corresponding to APPL represents the highest average trading volume among these companies, indicating that APPL had the highest average daily trading activity in terms of the number of shares traded during the year.\n",
    "* The bar corresponding to NFLX represents the highest daily volatility among these companies, indicating that NFLX had the most significant price fluctuations and price movements on a day-to-day basis during the year."
   ]
  },
  {
   "cell_type": "markdown",
   "id": "1c4bf6df",
   "metadata": {},
   "source": [
    "# Stock Market Predictions"
   ]
  },
  {
   "cell_type": "markdown",
   "id": "22f6d7b9",
   "metadata": {},
   "source": [
    "Ensuring that the 'Date' column in the `stocks` DataFrame is in the datetime format using the `pd.to_datetime()` function. This conversion is important to ensure that the dates are recognized and treated as timestamps for time-series analysis.\n",
    "\n",
    "After converting the 'Date' column to datetime format, we are using the `.set_index()` method to set the 'Date' column as the index of the DataFrame. Setting the index to the datetime values allows for efficient time-based indexing and enables us to perform time-series analysis and visualizations effectively."
   ]
  },
  {
   "cell_type": "code",
   "execution_count": 29,
   "id": "acf4934e",
   "metadata": {},
   "outputs": [],
   "source": [
    "# Ensure the 'Date' column is in datetime format and set it as the index\n",
    "stocks['Date'] = pd.to_datetime(stocks['Date'])\n",
    "stocks.set_index('Date', inplace=True)"
   ]
  },
  {
   "cell_type": "markdown",
   "id": "bcb5df9e",
   "metadata": {},
   "source": [
    "Extracting the stock price data for a specific company, which is represented by the variable `company_name`. The chosen company is 'TSLA' in this case.\n",
    "\n",
    "The code performs the following steps:\n",
    "\n",
    "1. Uses boolean indexing to filter the `stocks` DataFrame and extract rows where the 'Company' column matches the value specified in `company_name` ('TSLA' in this case).\n",
    "2. Selects the 'Close' column from the filtered data to extract the closing prices for the specified company.\n",
    "\n",
    "The resulting `company_data` Series represents the closing prices of the specified company's stock over time. This data can be used for various analyses and visualizations specific to the chosen company."
   ]
  },
  {
   "cell_type": "code",
   "execution_count": 30,
   "id": "0823de1c",
   "metadata": {},
   "outputs": [],
   "source": [
    "# Extract the stock price data for the specific company (e.g., 'TSLA')\n",
    "company_name = 'TSLA'\n",
    "company_data = stocks[stocks['Company'] == company_name]['Close']"
   ]
  },
  {
   "cell_type": "markdown",
   "id": "f83b98e4",
   "metadata": {},
   "source": [
    "Performing a train-test split on the time series data of a specific company's stock prices. The chosen split ratio is 80% for training and 20% for testing, which is set using the variable `train_size`.\n",
    "\n",
    "The code performs the following steps:\n",
    "\n",
    "1. Calculates the index at which the split should occur by multiplying the length of the `company_data` Series by 0.8 (80% train ratio).\n",
    "2. Uses slicing to create two separate datasets: `train_data` containing the initial 80% of the data and `test_data` containing the remaining 20%.\n",
    "3. The `train_data` Series includes the stock price data for training the model, while the `test_data` Series includes the stock price data for evaluating the model's performance.\n",
    "\n",
    "This train-test split is essential for assessing how well a model generalizes to unseen data, which is crucial for evaluating the effectiveness of predictive models on time series data."
   ]
  },
  {
   "cell_type": "code",
   "execution_count": 31,
   "id": "2c9ad401",
   "metadata": {},
   "outputs": [],
   "source": [
    "# Perform train-test split (e.g., 80% train, 20% test)\n",
    "train_size = int(len(company_data) * 0.8)\n",
    "train_data, test_data = company_data[:train_size], company_data[train_size:]"
   ]
  },
  {
   "cell_type": "markdown",
   "id": "4f447d94",
   "metadata": {},
   "source": [
    "Fitting an ARIMA (AutoRegressive Integrated Moving Average) model to the training data of a specific company's stock prices. The ARIMA model is specified using the `order` parameter, which determines the order of the autoregressive (p), differencing (d), and moving average (q) components of the model.\n",
    "\n",
    "The code performs the following steps:\n",
    "\n",
    "1. Creates an ARIMA model instance with the specified order `(5, 1, 0)`. The order values should be determined based on domain knowledge, time series characteristics, and possibly using techniques like ACF (Autocorrelation Function) and PACF (Partial Autocorrelation Function) plots.\n",
    "2. Uses the `.fit()` method to fit the ARIMA model to the `train_data`. This step estimates the model parameters based on the training data.\n",
    "\n",
    "The resulting `model_fit` object represents the fitted ARIMA model, which can be used for making predictions and further analysis."
   ]
  },
  {
   "cell_type": "code",
   "execution_count": 32,
   "id": "a23cd674",
   "metadata": {},
   "outputs": [
    {
     "name": "stderr",
     "output_type": "stream",
     "text": [
      "C:\\ProgramData\\anaconda3\\Lib\\site-packages\\statsmodels\\tsa\\base\\tsa_model.py:471: ValueWarning: A date index has been provided, but it has no associated frequency information and so will be ignored when e.g. forecasting.\n",
      "  self._init_dates(dates, freq)\n",
      "C:\\ProgramData\\anaconda3\\Lib\\site-packages\\statsmodels\\tsa\\base\\tsa_model.py:471: ValueWarning: A date index has been provided, but it is not monotonic and so will be ignored when e.g. forecasting.\n",
      "  self._init_dates(dates, freq)\n",
      "C:\\ProgramData\\anaconda3\\Lib\\site-packages\\statsmodels\\tsa\\base\\tsa_model.py:471: ValueWarning: A date index has been provided, but it has no associated frequency information and so will be ignored when e.g. forecasting.\n",
      "  self._init_dates(dates, freq)\n",
      "C:\\ProgramData\\anaconda3\\Lib\\site-packages\\statsmodels\\tsa\\base\\tsa_model.py:471: ValueWarning: A date index has been provided, but it is not monotonic and so will be ignored when e.g. forecasting.\n",
      "  self._init_dates(dates, freq)\n",
      "C:\\ProgramData\\anaconda3\\Lib\\site-packages\\statsmodels\\tsa\\base\\tsa_model.py:471: ValueWarning: A date index has been provided, but it has no associated frequency information and so will be ignored when e.g. forecasting.\n",
      "  self._init_dates(dates, freq)\n",
      "C:\\ProgramData\\anaconda3\\Lib\\site-packages\\statsmodels\\tsa\\base\\tsa_model.py:471: ValueWarning: A date index has been provided, but it is not monotonic and so will be ignored when e.g. forecasting.\n",
      "  self._init_dates(dates, freq)\n"
     ]
    }
   ],
   "source": [
    "# Fit ARIMA model\n",
    "model = ARIMA(train_data, order=(5, 1, 0))  # Use appropriate order (p, d, q)\n",
    "model_fit = model.fit()"
   ]
  },
  {
   "cell_type": "markdown",
   "id": "98ae7eeb",
   "metadata": {},
   "source": [
    "Using the fitted ARIMA model (`model_fit`) to make predictions for the same length as the test data. The `.forecast()` method of the ARIMA model is used to generate predictions.\n",
    "\n",
    "The code performs the following step:\n",
    "\n",
    "1. Calls the `.forecast()` method on the `model_fit` object, specifying the number of steps as the length of the `test_data`. This generates predictions for the stock prices over the same time span as the test data.\n",
    "\n",
    "The resulting `predictions` array contains the predicted stock prices based on the fitted ARIMA model. These predictions can be compared with the actual test data to evaluate the model's accuracy and performance."
   ]
  },
  {
   "cell_type": "code",
   "execution_count": 33,
   "id": "18fd62b7",
   "metadata": {},
   "outputs": [
    {
     "name": "stderr",
     "output_type": "stream",
     "text": [
      "C:\\ProgramData\\anaconda3\\Lib\\site-packages\\statsmodels\\tsa\\base\\tsa_model.py:834: ValueWarning: No supported index is available. Prediction results will be given with an integer index beginning at `start`.\n",
      "  return get_prediction_index(\n"
     ]
    }
   ],
   "source": [
    "# Make predictions\n",
    "predictions = model_fit.forecast(steps=len(test_data))"
   ]
  },
  {
   "cell_type": "markdown",
   "id": "bbc6e7d6",
   "metadata": {},
   "source": [
    "Calculating the Mean Squared Error (MSE) and Root Mean Squared Error (RMSE) to evaluate the performance of the ARIMA model's predictions compared to the actual test data.\n",
    "\n",
    "The code performs the following steps:\n",
    "\n",
    "1. Uses the `mean_squared_error()` function from the `sklearn.metrics` module to calculate the MSE between the `test_data` (actual values) and the `predictions` (predicted values) arrays.\n",
    "2. Computes the RMSE by taking the square root of the calculated MSE.\n",
    "3. Prints the calculated MSE and RMSE values to provide insights into the model's accuracy in predicting stock prices.\n",
    "\n",
    "MSE and RMSE are common metrics used to assess the accuracy of predictive models. Smaller values indicate better model performance, with RMSE providing a more interpretable measure in the same units as the original data."
   ]
  },
  {
   "cell_type": "code",
   "execution_count": 34,
   "id": "675c207d",
   "metadata": {},
   "outputs": [
    {
     "name": "stdout",
     "output_type": "stream",
     "text": [
      "MSE: 32.02\n",
      "RMSE: 5.66\n"
     ]
    }
   ],
   "source": [
    "# Calculate MSE and RMSE\n",
    "mse = mean_squared_error(test_data, predictions)\n",
    "rmse = np.sqrt(mse)\n",
    "\n",
    "print(f\"MSE: {mse:.2f}\")\n",
    "print(f\"RMSE: {rmse:.2f}\")"
   ]
  },
  {
   "cell_type": "markdown",
   "id": "96cb91e2",
   "metadata": {},
   "source": [
    "Creating a line plot to visualize the predicted stock prices versus the actual stock prices for a specific company (represented by `company_name`).\n",
    "\n",
    "The code performs the following steps:\n",
    "\n",
    "1. Uses the `plt.plot()` function to plot the actual stock prices (`test_data`) as a solid line with the label 'Actual'.\n",
    "2. Plots the predicted stock prices (`predictions`) as a dashed line with the label 'Predicted'.\n",
    "3. Adds labels to the axes, a title, and a legend to the plot.\n",
    "4. Displays the plot using `plt.show()`.\n",
    "\n",
    "This visualization allows us to visually compare the predicted stock prices with the actual prices. By assessing the alignment of the two lines, we can gain insights into the model's performance in capturing the underlying patterns and trends in the stock price data."
   ]
  },
  {
   "cell_type": "code",
   "execution_count": 35,
   "id": "5a59d5d8",
   "metadata": {},
   "outputs": [
    {
     "data": {
      "image/png": "[encoded data removed]",
      "text/plain": [
       "<Figure size 640x480 with 1 Axes>"
      ]
     },
     "metadata": {},
     "output_type": "display_data"
    }
   ],
   "source": [
    "# Visualize the predicted vs. actual stock prices\n",
    "plt.plot(test_data.index, test_data, label='Actual')\n",
    "plt.plot(test_data.index, predictions, label='Predicted', linestyle='--')\n",
    "plt.xlabel('Date')\n",
    "plt.ylabel('Closing Price')\n",
    "plt.title(f'Stock Price Prediction for {company_name}')\n",
    "plt.legend()\n",
    "plt.show()"
   ]
  },
  {
   "cell_type": "markdown",
   "id": "72245d47",
   "metadata": {},
   "source": [
    "ARIMA model is not capturing the underlying patterns or seasonality in the data adequately. This is a common issue in time-series forecasting when the model is not able to adapt to the complexities of the data."
   ]
  },
  {
   "cell_type": "markdown",
   "id": "533003bf",
   "metadata": {},
   "source": [
    "# Classification of Stock's Movement"
   ]
  },
  {
   "cell_type": "markdown",
   "id": "0de86aad",
   "metadata": {},
   "source": [
    "Performing feature engineering on the `stocks` DataFrame to create additional features that might be useful for analysis and modeling.\n",
    "\n",
    "The code performs the following steps:\n",
    "\n",
    "1. Creates a new column 'Price_Change' by calculating the difference between consecutive closing prices using the `.diff()` method.\n",
    "2. Calculates the 'Price_Change_Percentage' by dividing the 'Price_Change' by the previous day's closing price using `.shift(1)`.\n",
    "3. Computes the 'Avg_Volume' by calculating the rolling average of trading volumes over a window of 5 days using `.rolling(window=5).mean()`.\n",
    "4. Calculates the 'Daily_Volatility' by computing the rolling standard deviation of daily percentage changes in closing prices over a window of 5 days. The result is scaled by the square root of 252 to annualize the volatility.\n",
    "\n",
    "By adding these engineered features, we enhance the dataset with potentially informative variables that can capture price changes, trends, and market volatility, enabling more robust analysis and modeling."
   ]
  },
  {
   "cell_type": "code",
   "execution_count": 36,
   "id": "77fa6d13",
   "metadata": {},
   "outputs": [],
   "source": [
    "# Feature Engineering\n",
    "stocks['Price_Change'] = stocks['Close'].diff()\n",
    "stocks['Price_Change_Percentage'] = stocks['Price_Change'] / stocks['Close'].shift(1)\n",
    "stocks['Avg_Volume'] = stocks['Volume'].rolling(window=5).mean()\n",
    "stocks['Daily_Volatility'] = stocks['Close'].pct_change().rolling(window=5).std() * np.sqrt(252)"
   ]
  },
  {
   "cell_type": "markdown",
   "id": "6b1a5f9f",
   "metadata": {},
   "source": [
    "Dropping rows with NaN (Not a Number) values from the `stocks` DataFrame. These NaN values might have been introduced due to the rolling calculations performed in the feature engineering steps.\n",
    "\n",
    "The code performs the following step:\n",
    "\n",
    "1. Uses the `.dropna()` method to remove rows containing NaN values from the DataFrame. The `inplace=True` parameter ensures that the changes are applied to the DataFrame directly.\n",
    "\n",
    "Dropping rows with NaN values is important to ensure the integrity and consistency of the dataset, as NaN values can adversely affect analysis and modeling results."
   ]
  },
  {
   "cell_type": "code",
   "execution_count": 37,
   "id": "9766fe96",
   "metadata": {},
   "outputs": [],
   "source": [
    "# Drop rows with NaN values (due to rolling calculations)\n",
    "stocks.dropna(inplace=True)"
   ]
  },
  {
   "cell_type": "markdown",
   "id": "c2181edc",
   "metadata": {},
   "source": [
    "Selecting relevant features and target variables for a classification task from the `stocks` DataFrame.\n",
    "\n",
    "The code performs the following steps:\n",
    "\n",
    "1. Creates the feature matrix `X` by selecting columns 'Price_Change_Percentage', 'Avg_Volume', and 'Daily_Volatility' from the DataFrame. These features are chosen based on their potential impact on predicting price changes.\n",
    "2. Creates the target variable array `y` by applying a lambda function to the 'Price_Change' column. The lambda function converts positive price changes to 1 and non-positive changes to 0, effectively creating a binary classification problem.\n",
    "\n",
    "The selected features and target variable are crucial for training and testing classification models to predict whether the price change will be positive (1) or not (0) based on the provided features.\n"
   ]
  },
  {
   "cell_type": "code",
   "execution_count": 38,
   "id": "ddeac75f",
   "metadata": {},
   "outputs": [],
   "source": [
    "# Select relevant features for training and testing\n",
    "X = stocks[['Price_Change_Percentage', 'Avg_Volume', 'Daily_Volatility']]\n",
    "y = stocks['Price_Change'].apply(lambda x: 1 if x > 0 else 0)"
   ]
  },
  {
   "cell_type": "markdown",
   "id": "7b53362b",
   "metadata": {},
   "source": [
    "Using the `SimpleImputer` class from the `sklearn.impute` module to handle missing values in the features and target variables.\n",
    "\n",
    "The code performs the following steps:\n",
    "\n",
    "1. Creates an instance of `SimpleImputer` with the strategy set to 'mean'. This strategy replaces missing values with the mean value of the available data.\n",
    "2. Converts the target variable `y` to a NumPy array using `.to_numpy()` and reshapes it to have a single column using `.reshape(-1, 1)`.\n",
    "3. Applies the imputer to the target variable array `y` using the `.fit_transform()` method. This replaces missing values in `y` with the mean value.\n",
    "4. Applies the same imputer to the feature matrix `X` using the `.fit_transform()` method. This replaces missing values in the features with the mean value.\n",
    "\n",
    "Handling missing values is essential for creating consistent and complete datasets for training machine learning models, ensuring that the models can learn effectively from the available data.\n"
   ]
  },
  {
   "cell_type": "code",
   "execution_count": 39,
   "id": "766373d4",
   "metadata": {},
   "outputs": [],
   "source": [
    "# Handle Missing Values\n",
    "imputer = SimpleImputer(strategy='mean')\n",
    "# Assuming y is a pandas Series\n",
    "y_array = y.to_numpy().reshape(-1, 1)\n",
    "\n",
    "y = imputer.fit_transform(y_array)\n",
    "X = imputer.fit_transform(X)"
   ]
  },
  {
   "cell_type": "markdown",
   "id": "ae0e3b09",
   "metadata": {},
   "source": [
    "Performing a train-test split on the feature matrix `X` and the target variable array `y` for a classification task.\n",
    "\n",
    "The code performs the following steps:\n",
    "\n",
    "1. Uses the `train_test_split()` function from the `sklearn.model_selection` module to split the data into training and testing sets. The `test_size` parameter is set to 0.2, indicating that 20% of the data will be used for testing.\n",
    "2. The `random_state` parameter is set to 42 to ensure reproducibility of the split.\n",
    "\n",
    "The resulting `X_train`, `X_test`, `y_train`, and `y_test` arrays represent the training and testing sets for both features and the target variable, respectively. These sets are used to train and evaluate classification models.\n"
   ]
  },
  {
   "cell_type": "code",
   "execution_count": 40,
   "id": "3880ceec",
   "metadata": {},
   "outputs": [],
   "source": [
    "# Train-Test Split\n",
    "X_train, X_test, y_train, y_test = train_test_split(X, y, test_size=0.2, random_state=42)"
   ]
  },
  {
   "cell_type": "markdown",
   "id": "961c2c9b",
   "metadata": {},
   "source": [
    "Training a Logistic Regression model using the training data.\n",
    "\n",
    "The code performs the following steps:\n",
    "\n",
    "1. Creates an instance of the `LogisticRegression` class from the `sklearn.linear_model` module.\n",
    "2. Uses the `.fit()` method to train the model using the training feature matrix `X_train` and the corresponding target variable `y_train`.\n",
    "\n",
    "After training, the `model` object represents a trained Logistic Regression classifier that can be used for making predictions on new data and evaluating its performance.\n"
   ]
  },
  {
   "cell_type": "code",
   "execution_count": 41,
   "id": "a44927b1",
   "metadata": {},
   "outputs": [
    {
     "data": {
      "text/html": [
       "<style>#sk-container-id-1 {color: black;background-color: white;}#sk-container-id-1 pre{padding: 0;}#sk-container-id-1 div.sk-toggleable {background-color: white;}#sk-container-id-1 label.sk-toggleable__label {cursor: pointer;display: block;width: 100%;margin-bottom: 0;padding: 0.3em;box-sizing: border-box;text-align: center;}#sk-container-id-1 label.sk-toggleable__label-arrow:before {content: \"▸\";float: left;margin-right: 0.25em;color: #696969;}#sk-container-id-1 label.sk-toggleable__label-arrow:hover:before {color: black;}#sk-container-id-1 div.sk-estimator:hover label.sk-toggleable__label-arrow:before {color: black;}#sk-container-id-1 div.sk-toggleable__content {max-height: 0;max-width: 0;overflow: hidden;text-align: left;background-color: #f0f8ff;}#sk-container-id-1 div.sk-toggleable__content pre {margin: 0.2em;color: black;border-radius: 0.25em;background-color: #f0f8ff;}#sk-container-id-1 input.sk-toggleable__control:checked~div.sk-toggleable__content {max-height: 200px;max-width: 100%;overflow: auto;}#sk-container-id-1 input.sk-toggleable__control:checked~label.sk-toggleable__label-arrow:before {content: \"▾\";}#sk-container-id-1 div.sk-estimator input.sk-toggleable__control:checked~label.sk-toggleable__label {background-color: #d4ebff;}#sk-container-id-1 div.sk-label input.sk-toggleable__control:checked~label.sk-toggleable__label {background-color: #d4ebff;}#sk-container-id-1 input.sk-hidden--visually {border: 0;clip: rect(1px 1px 1px 1px);clip: rect(1px, 1px, 1px, 1px);height: 1px;margin: -1px;overflow: hidden;padding: 0;position: absolute;width: 1px;}#sk-container-id-1 div.sk-estimator {font-family: monospace;background-color: #f0f8ff;border: 1px dotted black;border-radius: 0.25em;box-sizing: border-box;margin-bottom: 0.5em;}#sk-container-id-1 div.sk-estimator:hover {background-color: #d4ebff;}#sk-container-id-1 div.sk-parallel-item::after {content: \"\";width: 100%;border-bottom: 1px solid gray;flex-grow: 1;}#sk-container-id-1 div.sk-label:hover label.sk-toggleable__label {background-color: #d4ebff;}#sk-container-id-1 div.sk-serial::before {content: \"\";position: absolute;border-left: 1px solid gray;box-sizing: border-box;top: 0;bottom: 0;left: 50%;z-index: 0;}#sk-container-id-1 div.sk-serial {display: flex;flex-direction: column;align-items: center;background-color: white;padding-right: 0.2em;padding-left: 0.2em;position: relative;}#sk-container-id-1 div.sk-item {position: relative;z-index: 1;}#sk-container-id-1 div.sk-parallel {display: flex;align-items: stretch;justify-content: center;background-color: white;position: relative;}#sk-container-id-1 div.sk-item::before, #sk-container-id-1 div.sk-parallel-item::before {content: \"\";position: absolute;border-left: 1px solid gray;box-sizing: border-box;top: 0;bottom: 0;left: 50%;z-index: -1;}#sk-container-id-1 div.sk-parallel-item {display: flex;flex-direction: column;z-index: 1;position: relative;background-color: white;}#sk-container-id-1 div.sk-parallel-item:first-child::after {align-self: flex-end;width: 50%;}#sk-container-id-1 div.sk-parallel-item:last-child::after {align-self: flex-start;width: 50%;}#sk-container-id-1 div.sk-parallel-item:only-child::after {width: 0;}#sk-container-id-1 div.sk-dashed-wrapped {border: 1px dashed gray;margin: 0 0.4em 0.5em 0.4em;box-sizing: border-box;padding-bottom: 0.4em;background-color: white;}#sk-container-id-1 div.sk-label label {font-family: monospace;font-weight: bold;display: inline-block;line-height: 1.2em;}#sk-container-id-1 div.sk-label-container {text-align: center;}#sk-container-id-1 div.sk-container {/* jupyter's `normalize.less` sets `[hidden] { display: none; }` but bootstrap.min.css set `[hidden] { display: none !important; }` so we also need the `!important` here to be able to override the default hidden behavior on the sphinx rendered scikit-learn.org. See: https://github.com/scikit-learn/scikit-learn/issues/21755 */display: inline-block !important;position: relative;}#sk-container-id-1 div.sk-text-repr-fallback {display: none;}</style><div id=\"sk-container-id-1\" class=\"sk-top-container\"><div class=\"sk-text-repr-fallback\"><pre>LogisticRegression()</pre><b>In a Jupyter environment, please rerun this cell to show the HTML representation or trust the notebook. <br />On GitHub, the HTML representation is unable to render, please try loading this page with nbviewer.org.</b></div><div class=\"sk-container\" hidden><div class=\"sk-item\"><div class=\"sk-estimator sk-toggleable\"><input class=\"sk-toggleable__control sk-hidden--visually\" id=\"sk-estimator-id-1\" type=\"checkbox\" checked><label for=\"sk-estimator-id-1\" class=\"sk-toggleable__label sk-toggleable__label-arrow\">LogisticRegression</label><div class=\"sk-toggleable__content\"><pre>LogisticRegression()</pre></div></div></div></div></div>"
      ],
      "text/plain": [
       "LogisticRegression()"
      ]
     },
     "execution_count": 41,
     "metadata": {},
     "output_type": "execute_result"
    }
   ],
   "source": [
    "# Model Training\n",
    "model = LogisticRegression()\n",
    "model.fit(X_train, y_train)"
   ]
  },
  {
   "cell_type": "markdown",
   "id": "3cbcdbdf",
   "metadata": {},
   "source": [
    "Using the trained Logistic Regression model to make predictions on the test data.\n",
    "\n",
    "The code performs the following step:\n",
    "\n",
    "1. Calls the `.predict()` method on the trained `model`, passing the test feature matrix `X_test` as input. This generates predicted values for the target variable based on the provided features.\n",
    "\n",
    "The resulting `y_pred` array contains the predicted binary classifications (0 or 1) for the test data. These predictions can be compared with the actual target values (`y_test`) to assess the model's accuracy and performance.\n"
   ]
  },
  {
   "cell_type": "code",
   "execution_count": 42,
   "id": "54effdb4",
   "metadata": {},
   "outputs": [],
   "source": [
    "# Model Prediction\n",
    "y_pred = model.predict(X_test)"
   ]
  },
  {
   "cell_type": "markdown",
   "id": "03dde41d",
   "metadata": {},
   "source": [
    "Calculating the Mean Squared Error (MSE) and Root Mean Squared Error (RMSE) to evaluate the performance of the trained Logistic Regression model's predictions compared to the actual test data.\n",
    "\n",
    "The code performs the following steps:\n",
    "\n",
    "1. Uses the `mean_squared_error()` function from the `sklearn.metrics` module to calculate the MSE between the actual target values (`y_test`) and the predicted values (`y_pred`).\n",
    "2. Computes the RMSE by taking the square root of the calculated MSE.\n",
    "3. Prints the calculated MSE and RMSE values to provide insights into the model's accuracy in predicting the binary classifications.\n",
    "\n",
    "MSE and RMSE can be used as evaluation metrics for classification models, giving an indication of how well the model's predictions match the true target values."
   ]
  },
  {
   "cell_type": "code",
   "execution_count": 43,
   "id": "39231656",
   "metadata": {},
   "outputs": [
    {
     "name": "stdout",
     "output_type": "stream",
     "text": [
      "MSE : 0.47\n",
      "RMSE : 0.68\n"
     ]
    }
   ],
   "source": [
    "# Calculate Mean Squared Error (MSE) and Root Mean Squared Error (RMSE)\n",
    "mse = mean_squared_error(y_test, y_pred)\n",
    "rmse = np.sqrt(mse)\n",
    "\n",
    "print(f\"MSE : {mse:.2f}\")\n",
    "print(f\"RMSE : {rmse:.2f}\")"
   ]
  },
  {
   "cell_type": "markdown",
   "id": "385902e2",
   "metadata": {},
   "source": [
    "Training a Random Forest Classifier model using the training data and making predictions on the test data.\n",
    "\n",
    "*Model Training:*\n",
    "\n",
    "1. Creates an instance of the `RandomForestClassifier` class from the `sklearn.ensemble` module, representing the Random Forest model.\n",
    "2. Uses the `.fit()` method to train the Random Forest model using the training feature matrix `X_train` and the corresponding target variable `y_train`\n",
    "\n",
    "*Model Prediction:*\n",
    "\n",
    "1. Calls the `.predict()` method on the trained Random Forest model (`rf_model`), passing the test feature matrix `X_test` as input. This generates predicted values for the binary classifications (0 or 1) based on the provided features.\n",
    "\n",
    "The resulting `y_pred_rf` array contains the predicted binary classifications for the test data using the Random Forest model. These predictions can be compared with the actual target values (`y_test`) to assess the model's accuracy and performance.\n"
   ]
  },
  {
   "cell_type": "code",
   "execution_count": 44,
   "id": "b3f4a1b8",
   "metadata": {},
   "outputs": [],
   "source": [
    "# Model Training - Random Forest\n",
    "rf_model = RandomForestClassifier()\n",
    "rf_model.fit(X_train, y_train)\n",
    "\n",
    "# Model Prediction - Random Forest\n",
    "y_pred_rf = rf_model.predict(X_test)\n"
   ]
  },
  {
   "cell_type": "markdown",
   "id": "bd1af75c",
   "metadata": {},
   "source": [
    "Calculating the Mean Squared Error (MSE) and Root Mean Squared Error (RMSE) to evaluate the performance of the Random Forest Classifier's predictions compared to the actual test data.\n",
    "\n",
    "The code performs the following steps:\n",
    "\n",
    "1. Uses the `mean_squared_error()` function from the `sklearn.metrics` module to calculate the MSE between the actual target values (`y_test`) and the predicted values (`y_pred_rf`) obtained from the Random Forest Classifier.\n",
    "2. Computes the RMSE by taking the square root of the calculated MSE.\n",
    "3. Prints the calculated MSE and RMSE values to provide insights into the model's accuracy in predicting the binary classifications.\n",
    "\n",
    "MSE and RMSE can be used as evaluation metrics for classification models, giving an indication of how well the model's predictions match the true target values.\n"
   ]
  },
  {
   "cell_type": "code",
   "execution_count": 45,
   "id": "716de2a5",
   "metadata": {},
   "outputs": [
    {
     "name": "stdout",
     "output_type": "stream",
     "text": [
      "MSE: 0.47\n",
      "RMSE: 0.68\n"
     ]
    }
   ],
   "source": [
    "# Calculate Mean Squared Error (MSE) and Root Mean Squared Error (RMSE)\n",
    "mse = mean_squared_error(y_test, y_pred)\n",
    "rmse = np.sqrt(mse)\n",
    "\n",
    "print(f\"MSE: {mse:.2f}\")\n",
    "print(f\"RMSE: {rmse:.2f}\")"
   ]
  },
  {
   "cell_type": "markdown",
   "id": "524bb8fd",
   "metadata": {},
   "source": [
    "Preprocessing the data and selecting relevant features for further analysis.\n",
    "\n",
    "*Feature Selection:*\n",
    "\n",
    "1. Creates the feature matrix `X` by selecting columns 'Price_Change_Percentage', 'Avg_Volume', and 'Daily_Volatility' from the `stocks` DataFrame. These features are chosen based on their potential impact on analysis or modeling.\n",
    "\n",
    "*Handling Missing Values:*\n",
    "\n",
    "1. Calls the `.dropna()` method on the feature matrix `X` to remove rows containing any missing values. This step is important to ensure that the analysis or modeling is conducted on complete and consistent data.\n",
    "\n",
    "By performing feature selection and handling missing values, we prepare the data for analysis or modeling tasks.\n"
   ]
  },
  {
   "cell_type": "code",
   "execution_count": 46,
   "id": "643ce3b3",
   "metadata": {},
   "outputs": [],
   "source": [
    "# Preprocess the data and select relevant features\n",
    "X = stocks[['Price_Change_Percentage', 'Avg_Volume', 'Daily_Volatility']].dropna()\n",
    "# Check for and handle missing values\n",
    "X = X.dropna()"
   ]
  },
  {
   "cell_type": "markdown",
   "id": "d5076cb4",
   "metadata": {},
   "source": [
    "Performing feature scaling on the selected features using the `StandardScaler` from the `sklearn.preprocessing` module.\n",
    "\n",
    "The code performs the following steps:\n",
    "\n",
    "1. Creates an instance of the `StandardScaler` class, represented by the `scaler` variable.\n",
    "2. Uses the `.fit_transform()` method on the `scaler` object to scale the selected features in the feature matrix `X`. This process transforms the features to have zero mean and unit variance.\n",
    "\n",
    "Feature scaling is important for many machine learning algorithms that are sensitive to the scale of features. By scaling the features, we ensure that they are on a comparable scale, which can improve the performance and convergence of certain algorithms.\n"
   ]
  },
  {
   "cell_type": "code",
   "execution_count": 47,
   "id": "7c0c256e",
   "metadata": {},
   "outputs": [],
   "source": [
    "# Scale the data to have zero mean and unit variance\n",
    "scaler = StandardScaler()\n",
    "X_scaled = scaler.fit_transform(X)"
   ]
  },
  {
   "cell_type": "markdown",
   "id": "a5468ee7",
   "metadata": {},
   "source": [
    "Applying K-means clustering to the preprocessed and scaled feature matrix `X`.\n",
    "\n",
    "The code performs the following steps:\n",
    "\n",
    "1. Specifies the chosen optimal number of clusters `optimal_k`. Replace the value with the actual optimal number of clusters you have determined.\n",
    "2. Creates an instance of the `KMeans` class from the `sklearn.cluster` module, represented by the variable `kmeans`. The `n_clusters` parameter is set to the chosen optimal K value.\n",
    "3. Uses the `.fit_predict()` method on the `kmeans` object to apply K-means clustering to the scaled feature matrix `X`. This assigns each data point to one of the K clusters and returns cluster labels in the `clusters` array.\n",
    "\n",
    "K-means clustering is an unsupervised machine learning technique used to group similar data points into clusters based on their feature values. The resulting `clusters` array indicates which cluster each data point belongs to."
   ]
  },
  {
   "cell_type": "code",
   "execution_count": 48,
   "id": "331c5524",
   "metadata": {},
   "outputs": [],
   "source": [
    "# Choose the optimal K value and apply K-means clustering\n",
    "optimal_k = 3  # Replace this with the chosen optimal K value\n",
    "kmeans = KMeans(n_clusters=optimal_k)\n",
    "clusters = kmeans.fit_predict(X)"
   ]
  },
  {
   "cell_type": "markdown",
   "id": "39cb587d",
   "metadata": {},
   "source": [
    "Visualizing the results of K-means clustering by creating a scatter plot.\n",
    "\n",
    "The code performs the following steps:\n",
    "\n",
    "1. Uses the `plt.scatter()` function to create a scatter plot with the scaled features `Percentage Price Change` and `Average Trading Volume` as the x and y coordinates, respectively.\n",
    "2. The `c` parameter is set to the `clusters` array, assigning a unique color to each cluster using the 'rainbow' colormap.\n",
    "3. Adds labels to the axes and a title to the plot using `plt.xlabel()`, `plt.ylabel()`, and `plt.title()` functions.\n",
    "4. Displays the scatter plot using `plt.show()`.\n",
    "\n",
    "The resulting plot visually represents the grouping of data points into clusters based on their scaled feature values."
   ]
  },
  {
   "cell_type": "code",
   "execution_count": 49,
   "id": "d7f76ddd",
   "metadata": {},
   "outputs": [
    {
     "data": {
      "image/png": "[encoded data removed]",
      "text/plain": [
       "<Figure size 640x480 with 1 Axes>"
      ]
     },
     "metadata": {},
     "output_type": "display_data"
    }
   ],
   "source": [
    "# Visualize the clusters\n",
    "plt.scatter(X_scaled[:, 0], X_scaled[:, 1], c=clusters, cmap='rainbow')\n",
    "plt.xlabel('Percentage Price Change (Scaled)')\n",
    "plt.ylabel('Average Trading Volume (Scaled)')\n",
    "plt.title('K-means Clustering of Historical Stock Performance')\n",
    "plt.show()"
   ]
  },
  {
   "cell_type": "markdown",
   "id": "e67f120d",
   "metadata": {},
   "source": [
    "Creating a DataFrame with cluster labels and original data, and then analyzing and interpreting the results of K-means clustering.\n",
    "\n",
    "*Creating Clustered DataFrame:*\n",
    "\n",
    "1. Creates a copy of the `stocks` DataFrame called `clustered_stocks`.\n",
    "2. Adds a new column 'Cluster' to `clustered_stocks`, containing the cluster labels obtained from K-means clustering.\n",
    "\n",
    "*Analyzing Results:*\n",
    "\n",
    "1. Uses the `.groupby().agg()` method on the `clustered_stocks` DataFrame to group data by cluster and calculate aggregate statistics.\n",
    "2. Calculates the mean of 'Price_Change_Percentage' and 'Avg_Volume' for each cluster.\n",
    "3. Prints the cluster statistics using `print()`.\n",
    "\n",
    "The resulting `cluster_stats` DataFrame contains the mean percentage price change and average trading volume for each cluster. Analyzing these statistics can provide insights into the characteristics and performance of different clusters in terms of price change and trading volume.\n"
   ]
  },
  {
   "cell_type": "code",
   "execution_count": 50,
   "id": "4b7aa5ae",
   "metadata": {},
   "outputs": [
    {
     "name": "stdout",
     "output_type": "stream",
     "text": [
      "Cluster Statistics:\n"
     ]
    },
    {
     "data": {
      "text/html": [
       "<div>\n",
       "<style scoped>\n",
       "    .dataframe tbody tr th:only-of-type {\n",
       "        vertical-align: middle;\n",
       "    }\n",
       "\n",
       "    .dataframe tbody tr th {\n",
       "        vertical-align: top;\n",
       "    }\n",
       "\n",
       "    .dataframe thead tr th {\n",
       "        text-align: left;\n",
       "    }\n",
       "\n",
       "    .dataframe thead tr:last-of-type th {\n",
       "        text-align: right;\n",
       "    }\n",
       "</style>\n",
       "<table border=\"1\" class=\"dataframe\">\n",
       "  <thead>\n",
       "    <tr>\n",
       "      <th></th>\n",
       "      <th>Price_Change_Percentage</th>\n",
       "      <th>Avg_Volume</th>\n",
       "    </tr>\n",
       "    <tr>\n",
       "      <th></th>\n",
       "      <th>mean</th>\n",
       "      <th>mean</th>\n",
       "    </tr>\n",
       "    <tr>\n",
       "      <th>Cluster</th>\n",
       "      <th></th>\n",
       "      <th></th>\n",
       "    </tr>\n",
       "  </thead>\n",
       "  <tbody>\n",
       "    <tr>\n",
       "      <th>0</th>\n",
       "      <td>0.000775</td>\n",
       "      <td>2.128330e+07</td>\n",
       "    </tr>\n",
       "    <tr>\n",
       "      <th>1</th>\n",
       "      <td>0.003841</td>\n",
       "      <td>2.478097e+08</td>\n",
       "    </tr>\n",
       "    <tr>\n",
       "      <th>2</th>\n",
       "      <td>0.018813</td>\n",
       "      <td>9.637049e+07</td>\n",
       "    </tr>\n",
       "  </tbody>\n",
       "</table>\n",
       "</div>"
      ],
      "text/plain": [
       "        Price_Change_Percentage    Avg_Volume\n",
       "                           mean          mean\n",
       "Cluster                                      \n",
       "0                      0.000775  2.128330e+07\n",
       "1                      0.003841  2.478097e+08\n",
       "2                      0.018813  9.637049e+07"
      ]
     },
     "execution_count": 50,
     "metadata": {},
     "output_type": "execute_result"
    }
   ],
   "source": [
    "# Create a DataFrame with the cluster labels and original data\n",
    "clustered_stocks = stocks.copy()\n",
    "clustered_stocks['Cluster'] = clusters\n",
    "\n",
    "# Analyze and interpret the results\n",
    "cluster_stats = clustered_stocks.groupby('Cluster').agg({\n",
    "    'Price_Change_Percentage': ['mean'],\n",
    "    'Avg_Volume': ['mean']\n",
    "})\n",
    "\n",
    "print(\"Cluster Statistics:\")\n",
    "cluster_stats"
   ]
  },
  {
   "cell_type": "markdown",
   "id": "bcb78d85",
   "metadata": {},
   "source": [
    "Based on the clustering analysis, we can observe the following characteristics of companies in each cluster:\n",
    "\n",
    "Cluster 0:\n",
    "- Relatively low mean percentage price change, indicates that their stock prices don't fluctuate significantly on a daily basis.\n",
    "- Average trading volume, indicates a moderate level of trading activity.\n",
    "\n",
    "Cluster 1:\n",
    "- Higher mean percentage price change, suggests that their stock prices experience larger daily fluctuations.\n",
    "- Average trading volume, indicatES a higher level of trading activity compared to other clusters.\n",
    "\n",
    "Cluster 2:\n",
    "- moderate mean percentage price change, indicates moderate daily fluctuations in their stock prices.\n",
    "- Average trading volume, suggests a high level of trading activity.\n"
   ]
  },
  {
   "cell_type": "markdown",
   "id": "8610ef03",
   "metadata": {},
   "source": [
    "# Artificial Neural Network"
   ]
  },
  {
   "cell_type": "markdown",
   "id": "f5653edd",
   "metadata": {},
   "source": [
    "Performing feature scaling on the selected features using the `StandardScaler` from the `sklearn.preprocessing` module.\n",
    "\n",
    "The code performs the following steps:\n",
    "\n",
    "1. Creates an instance of the `StandardScaler` class, represented by the variable `scaler`.\n",
    "2. Uses the `.fit_transform()` method on the `scaler` object to scale the selected features in the feature matrix `X`. This process transforms the features to have zero mean and unit variance."
   ]
  },
  {
   "cell_type": "code",
   "execution_count": 51,
   "id": "6bc61407",
   "metadata": {},
   "outputs": [],
   "source": [
    "scaler = StandardScaler()\n",
    "X_scaled = scaler.fit_transform(X)"
   ]
  },
  {
   "cell_type": "markdown",
   "id": "288525a0",
   "metadata": {},
   "source": [
    "Performing a train-test split on the scaled feature matrix `X_scaled` and the target variable array `y` for a classification task.\n",
    "\n",
    "The code performs the following steps:\n",
    "\n",
    "1. Uses the `train_test_split()` function from the `sklearn.model_selection` module to split the scaled feature matrix and target variable data into training and testing sets. The `test_size` parameter is set to 0.2, indicating that 20% of the data will be used for testing.\n",
    "2. The `random_state` parameter is set to 42 to ensure reproducibility of the split.\n",
    "\n",
    "The resulting `X_train`, `X_test`, `y_train`, and `y_test` arrays represent the training and testing sets for both scaled features and the target variable, respectively. These sets are used to train and evaluate classification models."
   ]
  },
  {
   "cell_type": "code",
   "execution_count": 52,
   "id": "cd60df58",
   "metadata": {},
   "outputs": [],
   "source": [
    "# Split data into training and testing sets\n",
    "X_train, X_test, y_train, y_test = train_test_split(X_scaled, y, test_size=0.2, random_state=42)"
   ]
  },
  {
   "cell_type": "markdown",
   "id": "4e9598ef",
   "metadata": {},
   "source": [
    "Building a neural network model using the TensorFlow and Keras libraries.\n",
    "\n",
    "The code defines a neural network with the following architecture:\n",
    "\n",
    "1. `Sequential` model: Represents a linear stack of layers.\n",
    "2. `Dense` layer with 64 units and ReLU activation function. The `input_shape` parameter is set to match the number of features in the scaled feature matrix `X_train`.\n",
    "3. `Dense` layer with 32 units and ReLU activation function.\n",
    "4. Final `Dense` layer with 1 unit, representing the output.\n",
    "\n",
    "The neural network model is designed for a binary classification task, where it predicts whether the target variable will be positive or not based on the input features."
   ]
  },
  {
   "cell_type": "code",
   "execution_count": 53,
   "id": "04735d63",
   "metadata": {},
   "outputs": [],
   "source": [
    "# Build the neural network model\n",
    "model = tf.keras.Sequential([\n",
    "    tf.keras.layers.Dense(64, activation='relu', input_shape=(X_train.shape[1],)),\n",
    "    tf.keras.layers.Dense(32, activation='relu'),\n",
    "    tf.keras.layers.Dense(1)\n",
    "])"
   ]
  },
  {
   "cell_type": "markdown",
   "id": "1379bc7f",
   "metadata": {},
   "source": [
    "Compiling the neural network model using TensorFlow and Keras.\n",
    "\n",
    "The code performs the following steps:\n",
    "\n",
    "1. Creates an instance of the `SGD` optimizer from the `tf.keras.optimizers` module with a learning rate of 0.01.\n",
    "2. Uses the `.compile()` method on the `model` object to compile the neural network. The `optimizer` parameter is set to the created `SGD` optimizer, and the `loss` parameter is set to 'mean_squared_error', which is used as the loss function during training.\n",
    "\n",
    "Compiling the model prepares it for training by specifying the optimizer and loss function to be used. In this case, the model will be trained to minimize the mean squared error loss."
   ]
  },
  {
   "cell_type": "code",
   "execution_count": 54,
   "id": "56aa5131",
   "metadata": {},
   "outputs": [],
   "source": [
    "# Compile the model\n",
    "optimizer = tf.keras.optimizers.SGD(learning_rate=0.01)\n",
    "model.compile(optimizer=optimizer, loss='mean_squared_error')"
   ]
  },
  {
   "cell_type": "markdown",
   "id": "2c5852c3",
   "metadata": {},
   "source": [
    "Training the compiled neural network model using the training data.\n",
    "\n",
    "The code performs the following steps:\n",
    "\n",
    "1. Uses the `.fit()` method on the `model` object to train the neural network.\n",
    "2. `X_train` and `y_train` are provided as training data and target values.\n",
    "3. `epochs` is set to 10, indicating the number of times the entire training dataset is passed through the model during training.\n",
    "4. `batch_size` is set to 32, specifying the number of samples used in each update of the model's weights.\n",
    "5. `validation_split` is set to 0.2, indicating that 20% of the training data will be used for validation during each epoch.\n",
    "6. `verbose` is set to 1, so progress updates will be printed during training.\n",
    "\n",
    "The `history` object captures the training history, including loss and validation metrics over epochs. This information can be used to analyze the model's performance during training."
   ]
  },
  {
   "cell_type": "code",
   "execution_count": 55,
   "id": "54fb6ed7",
   "metadata": {},
   "outputs": [
    {
     "name": "stdout",
     "output_type": "stream",
     "text": [
      "Epoch 1/10\n",
      "504/504 [==============================] - 2s 2ms/step - loss: 0.3054 - val_loss: 0.2464\n",
      "Epoch 2/10\n",
      "504/504 [==============================] - 1s 1ms/step - loss: 0.2441 - val_loss: 0.2427\n",
      "Epoch 3/10\n",
      "504/504 [==============================] - 1s 1ms/step - loss: 0.2392 - val_loss: 0.2343\n",
      "Epoch 4/10\n",
      "504/504 [==============================] - 1s 1ms/step - loss: 0.2639 - val_loss: 0.2362\n",
      "Epoch 5/10\n",
      "504/504 [==============================] - 1s 1ms/step - loss: 0.2494 - val_loss: 0.2311\n",
      "Epoch 6/10\n",
      "504/504 [==============================] - 1s 2ms/step - loss: 0.2352 - val_loss: 0.2248\n",
      "Epoch 7/10\n",
      "504/504 [==============================] - 1s 2ms/step - loss: 0.2201 - val_loss: 0.2154\n",
      "Epoch 8/10\n",
      "504/504 [==============================] - 1s 2ms/step - loss: 0.2058 - val_loss: 0.1997\n",
      "Epoch 9/10\n",
      "504/504 [==============================] - 1s 2ms/step - loss: 0.1890 - val_loss: 0.1790\n",
      "Epoch 10/10\n",
      "504/504 [==============================] - 1s 1ms/step - loss: 0.1704 - val_loss: 0.1646\n"
     ]
    }
   ],
   "source": [
    "# Train the model\n",
    "history = model.fit(X_train, y_train, epochs=10, batch_size=32, validation_split=0.2, verbose=1)"
   ]
  },
  {
   "cell_type": "markdown",
   "id": "a7089f38",
   "metadata": {},
   "source": [
    "Evaluating the trained neural network model's performance on the test data.\n",
    "\n",
    "The code performs the following steps:\n",
    "\n",
    "1. Uses the trained `model` to predict the target variable values for the test feature matrix `X_test`.\n",
    "2. Calculates the mean squared error (MSE) between the actual target values `y_test` and the predicted values `y_pred`.\n",
    "3. Computes the root mean squared error (RMSE) by taking the square root of the calculated MSE.\n",
    "4. Prints the calculated MSE and RMSE as evaluation metrics.\n",
    "\n",
    "Evaluating the model on test data provides insights into how well the trained neural network performs on unseen data, helping to assess its generalization capability.\n"
   ]
  },
  {
   "cell_type": "code",
   "execution_count": 56,
   "id": "4712be66",
   "metadata": {},
   "outputs": [
    {
     "name": "stdout",
     "output_type": "stream",
     "text": [
      "158/158 [==============================] - 0s 956us/step\n",
      "MSE: 0.1660465013903491\n",
      "RMSE: 0.40748803834020586\n"
     ]
    }
   ],
   "source": [
    "# Evaluate the model on the test data\n",
    "y_pred = model.predict(X_test)\n",
    "mse = mean_squared_error(y_test, y_pred)\n",
    "rmse = np.sqrt(mse)\n",
    "\n",
    "print(\"MSE:\", mse)\n",
    "print(\"RMSE:\", rmse)"
   ]
  },
  {
   "cell_type": "code",
   "execution_count": null,
   "id": "81e58cb3",
   "metadata": {},
   "outputs": [],
   "source": []
  }
 ],
 "metadata": {
  "kernelspec": {
   "display_name": "Python 3 (ipykernel)",
   "language": "python",
   "name": "python3"
  },
  "language_info": {
   "codemirror_mode": {
    "name": "ipython",
    "version": 3
   },
   "file_extension": ".py",
   "mimetype": "text/x-python",
   "name": "python",
   "nbconvert_exporter": "python",
   "pygments_lexer": "ipython3",
   "version": "3.11.3"
  }
 },
 "nbformat": 4,
 "nbformat_minor": 5
}
