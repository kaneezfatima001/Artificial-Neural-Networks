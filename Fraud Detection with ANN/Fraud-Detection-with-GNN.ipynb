{
 "cells": [
  {
   "cell_type": "markdown",
   "metadata": {},
   "source": [
    "# Fraud Detection Using GNNs"
   ]
  },
  {
   "cell_type": "markdown",
   "metadata": {},
   "source": [
    "## What is fraud detection ?\n",
    "\n",
    "Fraud detection is the process of identifying and preventing unauthorized activity in organizations. It has become a major challenge for companies in industries such as banking, finance, retail, and e-commerce. Fraud can negatively impact an organization's financial performance and reputation, making it crucial for companies to prevent and predict suspicious activity.\n"
   ]
  },
  {
   "cell_type": "markdown",
   "metadata": {},
   "source": [
    "\n",
    "## Complex and evolving fraud patterns \n",
    "\n",
    "Fraudsters continually revise their strategies and devise ever-more-sophisticated methods to cheat the system, regularly involving intricate networks of transactions to prevent recognition. Traditional rule-based systems and matrix-based ML such as SVMs and XGBoost often just ponder the immediate edges of a deal (who transferred money to whom), usually omitting to notice fraudulent patterns with more complicated context. Rule-based systems furthermore need to be manually adjusted as fraud patterns shift and new scams arise.\n"
   ]
  },
  {
   "cell_type": "markdown",
   "metadata": {},
   "source": [
    "## Label Quality\n",
    "\n",
    "The datasets for fraud detection are commonly unbalanced and incompletely labeled. In reality, only a tiny fraction of people plan to perpetrate fraud. Usually, domain specialists will label transactions as fraudulent or not, but they can't make certain that all fraud has been identified in the dataset.\n",
    "\n",
    "The large disparity between the number of labels and the amount of data available renders it hard to generate supervised models. Models trained on the accessible classifications could have a greater number of false negatives, while the imbalanced dataset could lead to an increase in false positives. Consequently, training Graph Neural Networks (GNNs) with different objectives and making use of their latent representations afterwards can be advantageous.\n"
   ]
  },
  {
   "cell_type": "markdown",
   "metadata": {},
   "source": [
    "## Model explainability \n",
    "\n",
    "Predicting if a transaction is fraudulent or not is inadequate for meeting the transparency standards of the banking sector. It is also essential to comprehend why certain deals are marked as deceitful. This explicability is critical for comprehending how fraud occurs, how to execute procedures to reduce fraud, and to make sure the process isn’t prejudiced. As a result, fraud detection models must be comprehensible and interpretable, which restricts the choices of models that investigators can apply."
   ]
  },
  {
   "cell_type": "markdown",
   "metadata": {},
   "source": [
    "## Graph approaches for fraud detection\n",
    "\n",
    "Transactions can be represented as a graph, with users as nodes and interactions between them as edges. Traditional feature-based algorithms such as XGBoost and DLRM analyze individual nodes or edges, while graph-based approaches take into account the local context and structure of the graph, including neighboring nodes and edges.\n",
    "\n",
    "In the traditional graph domain, there are various methods for making predictions based on graph structure, such as statistical approaches that aggregate features from adjacent nodes or edges. Algorithms like the [Louvain method](https://en.wikipedia.org/wiki/Louvain_method) and [InfoMap](https://towardsdatascience.com/infomap-algorithm-9b68b7e8b86) can identify communities and clusters of users on the graph. However, these methods lack the expressivity to fully consider the graph in its original format.\n",
    "\n",
    "Graph neural networks (GNNs) offer a solution by representing local structural and feature context natively within the model. Through aggregation and message passing, information from both edges and nodes is propagated to neighboring nodes. Multiple layers of graph convolution result in a node's state containing information from nodes multiple layers away, effectively allowing the GNN to have a \"receptive field\" of nodes or edges multiple jumps away from the node or edge in question.\n",
    "\n",
    "For fraud detection, GNNs can account for complex or longer chains of transactions that fraudsters use for obfuscation. Additionally, changing patterns can be addressed by retraining the model iteratively."
   ]
  },
  {
   "cell_type": "markdown",
   "metadata": {},
   "source": [
    "## ML for graph \n",
    "\n",
    "These are the general steps of ML on Graph, depending on the task, the methods used in each step may change and not all the steps may be needed.\n",
    "\n",
    "1. Graph Representation: The first step in applying machine learning techniques to graphs is to represent the graph in a format that can be input into a machine learning model. This can be done using various graph representations such as adjacency matrices, adjacency lists, and edge lists.\n",
    "\n",
    "2. Feature Extraction: Once the graph is represented, the next step is to extract features from the graph that can be used as input to a machine learning model. These features can include things like node degree, centrality measures, and graph traversal patterns.\n",
    "\n",
    "3. Dimensionality Reduction: As the number of nodes and edges in a graph can be large, it is often necessary to reduce the dimensionality of the graph representation before applying machine learning techniques. This can be done using techniques like principal component analysis (PCA) and t-SNE.\n",
    "\n",
    "4. Model Selection: After the graph is represented and features have been extracted, the next step is to select a machine learning model that can be applied to the graph data. Common models used for graph data include decision trees, random forests, and neural networks.\n",
    "\n",
    "5. Training and Evaluation: Once the model is selected, it is trained on the graph data using a labeled training dataset. The model is then evaluated on a separate test dataset to assess its performance.\n",
    "\n",
    "6. Predictions: After the model is trained, it can be used to make predictions on new graph data. For example, it can be used to predict the likelihood of a node in a graph being in a certain class or to predict the likelihood of a link between two nodes."
   ]
  },
  {
   "cell_type": "markdown",
   "metadata": {},
   "source": [
    "## Dataset \n",
    "The IBM credit card transaction dataset is a publicly available dataset that contains information about credit card transactions. It is often used for research and testing of fraud detection models. The dataset includes a variety of features such as the amount of the transaction, the type of card used, and the location of the transaction. It also includes a label indicating whether or not the transaction was fraudulent. The dataset is designed to be representative of real-world transactions and therefore contains a certain level of class imbalance, with a higher number of non-fraudulent transactions than fraudulent transactions. The dataset is provided by IBM and the data is simulated, but it is not specified the exact process of data simulation. It is important to note that the data is not real and it is not linked to any real customer or financial institution.\n",
    "\n",
    "The data set contains: \n",
    "* 24 million unique transactions\n",
    "* 6,000 unique merchants\n",
    "* 100,000 unique cards\n",
    "* 30,000 fraudulent samples (0.1% of total transactions)\n",
    "\n",
    "**Where to find the data** \n",
    "* If you are willing to use the data locally you can download it from this [link](https://ibm.ent.box.com/v/tabformer-data)\n",
    "* In our case we will use Kaggle to create our GNN model so we are using the dataset on kaggle, here's the [link](https://www.kaggle.com/datasets/ealtman2019/credit-card-transactions)"
   ]
  },
  {
   "cell_type": "markdown",
   "metadata": {},
   "source": [
    "## Necessary imports "
   ]
  },
  {
   "cell_type": "code",
   "execution_count": 36,
   "metadata": {
    "execution": {
     "iopub.execute_input": "2023-01-16T21:08:15.682511Z",
     "iopub.status.busy": "2023-01-16T21:08:15.682100Z",
     "iopub.status.idle": "2023-01-16T21:08:15.689776Z",
     "shell.execute_reply": "2023-01-16T21:08:15.688076Z",
     "shell.execute_reply.started": "2023-01-16T21:08:15.682477Z"
    }
   },
   "outputs": [],
   "source": [
    "import pandas as pd\n",
    "import numpy as np\n",
    "import matplotlib.pyplot as plt\n",
    "from collections import Counter\n",
    "from sklearn.model_selection import train_test_split\n",
    "from sklearn.preprocessing import LabelEncoder\n",
    "import networkx as nx\n",
    "import torch\n",
    "import torch.nn as nn\n",
    "import torch.nn.functional as F"
   ]
  },
  {
   "cell_type": "markdown",
   "metadata": {},
   "source": [
    "## Preprosessing \n",
    "\n",
    "Preprocessing tabular data before creating a graph is important because it ensures that the data is in a format that can be easily converted into a graph structure. Tabular data, such as a CSV file, typically contains rows and columns of information, with each row representing a single record and each column representing a specific feature or attribute. Before creating a graph, it is essential to clean and transform the data so that it is consistent and in a format that can be easily mapped to a graph structure. This may include tasks such as filling in missing values, converting data types, and removing duplicates.\n",
    "\n",
    "Additionally, preprocessing tabular data can also help to improve the performance and accuracy of graph-based algorithms by reducing noise and irrelevant information in the data. This can be achieved by removing irrelevant features, normalizing numerical data, and encoding categorical data. Preprocessing can also help to balance the class distribution in case of imbalanced data, which is a common problem in fraud detection datasets.\n",
    "\n",
    "**Note:**\n",
    "\n",
    "For hardware limitations we will only take 100.000 samples of our data."
   ]
  },
  {
   "cell_type": "code",
   "execution_count": 2,
   "metadata": {
    "execution": {
     "iopub.execute_input": "2023-01-16T21:02:57.756542Z",
     "iopub.status.busy": "2023-01-16T21:02:57.755879Z",
     "iopub.status.idle": "2023-01-16T21:04:23.668499Z",
     "shell.execute_reply": "2023-01-16T21:04:23.667008Z",
     "shell.execute_reply.started": "2023-01-16T21:02:57.756503Z"
    }
   },
   "outputs": [],
   "source": [
    "# Load the tabular dataset\n",
    "df = pd.read_csv(\"credit_card_transactions-ibm_v2.csv\").sample(n=100000, random_state=42)"
   ]
  },
  {
   "cell_type": "code",
   "execution_count": 3,
   "metadata": {
    "execution": {
     "iopub.execute_input": "2023-01-16T21:04:23.672324Z",
     "iopub.status.busy": "2023-01-16T21:04:23.671699Z",
     "iopub.status.idle": "2023-01-16T21:04:23.770159Z",
     "shell.execute_reply": "2023-01-16T21:04:23.768565Z",
     "shell.execute_reply.started": "2023-01-16T21:04:23.672275Z"
    }
   },
   "outputs": [
    {
     "name": "stdout",
     "output_type": "stream",
     "text": [
      "<class 'pandas.core.frame.DataFrame'>\n",
      "Int64Index: 100000 entries, 18199893 to 4816941\n",
      "Data columns (total 15 columns):\n",
      " #   Column          Non-Null Count   Dtype  \n",
      "---  ------          --------------   -----  \n",
      " 0   User            100000 non-null  int64  \n",
      " 1   Card            100000 non-null  int64  \n",
      " 2   Year            100000 non-null  int64  \n",
      " 3   Month           100000 non-null  int64  \n",
      " 4   Day             100000 non-null  int64  \n",
      " 5   Time            100000 non-null  object \n",
      " 6   Amount          100000 non-null  object \n",
      " 7   Use Chip        100000 non-null  object \n",
      " 8   Merchant Name   100000 non-null  int64  \n",
      " 9   Merchant City   100000 non-null  object \n",
      " 10  Merchant State  88782 non-null   object \n",
      " 11  Zip             88134 non-null   float64\n",
      " 12  MCC             100000 non-null  int64  \n",
      " 13  Errors?         1576 non-null    object \n",
      " 14  Is Fraud?       100000 non-null  object \n",
      "dtypes: float64(1), int64(7), object(7)\n",
      "memory usage: 12.2+ MB\n"
     ]
    }
   ],
   "source": [
    "df.info()"
   ]
  },
  {
   "cell_type": "code",
   "execution_count": 4,
   "metadata": {
    "execution": {
     "iopub.execute_input": "2023-01-16T21:04:23.772609Z",
     "iopub.status.busy": "2023-01-16T21:04:23.771853Z",
     "iopub.status.idle": "2023-01-16T21:04:23.792769Z",
     "shell.execute_reply": "2023-01-16T21:04:23.790768Z",
     "shell.execute_reply.started": "2023-01-16T21:04:23.772521Z"
    }
   },
   "outputs": [
    {
     "data": {
      "text/plain": [
       "(117, 15)"
      ]
     },
     "execution_count": 4,
     "metadata": {},
     "output_type": "execute_result"
    }
   ],
   "source": [
    "# We need to make sure that the samples we extracted have some rows where fraud is True\n",
    "df [df['Is Fraud?'] == 'Yes'].shape"
   ]
  },
  {
   "cell_type": "code",
   "execution_count": 5,
   "metadata": {
    "execution": {
     "iopub.execute_input": "2023-01-16T21:04:23.797075Z",
     "iopub.status.busy": "2023-01-16T21:04:23.796135Z",
     "iopub.status.idle": "2023-01-16T21:04:24.225588Z",
     "shell.execute_reply": "2023-01-16T21:04:24.223789Z",
     "shell.execute_reply.started": "2023-01-16T21:04:23.797018Z"
    }
   },
   "outputs": [
    {
     "data": {
      "text/plain": [
       "([0, 1, 2, 3, 4, 5, 6, 7, 8, 9, 10, 11, 12, 13, 14],\n",
       " [Text(0, 0, ''),\n",
       "  Text(0, 0, ''),\n",
       "  Text(0, 0, ''),\n",
       "  Text(0, 0, ''),\n",
       "  Text(0, 0, ''),\n",
       "  Text(0, 0, ''),\n",
       "  Text(0, 0, ''),\n",
       "  Text(0, 0, ''),\n",
       "  Text(0, 0, ''),\n",
       "  Text(0, 0, ''),\n",
       "  Text(0, 0, ''),\n",
       "  Text(0, 0, ''),\n",
       "  Text(0, 0, ''),\n",
       "  Text(0, 0, ''),\n",
       "  Text(0, 0, '')])"
      ]
     },
     "execution_count": 5,
     "metadata": {},
     "output_type": "execute_result"
    },
    {
     "data": {
      "image/png": "[encoded data removed]",
      "text/plain": [
       "<Figure size 432x288 with 1 Axes>"
      ]
     },
     "metadata": {
      "needs_background": "light"
     },
     "output_type": "display_data"
    }
   ],
   "source": [
    "percent_missing=(df.isnull().sum()*100/df.shape[0]).sort_values(ascending=True)\n",
    "plt.title(\"Missing Value Analysis\")\n",
    "plt.xlabel(\"Features\")\n",
    "plt.ylabel(\"% of missing values\")\n",
    "plt.bar(percent_missing.sort_values(ascending=False).index,percent_missing.sort_values(ascending=False),color=(0.1, 0.1, 0.1, 0.1),edgecolor='blue')\n",
    "plt.xticks(rotation=90)"
   ]
  },
  {
   "cell_type": "markdown",
   "metadata": {},
   "source": [
    "The card_id is defined as one card by one user. A specific user can have multiple cards, which would correspond to multiple different card_ids for this graph. \n",
    "For this reason we will create a new column which is the concatenation of the column User and the Column Card"
   ]
  },
  {
   "cell_type": "code",
   "execution_count": 6,
   "metadata": {
    "execution": {
     "iopub.execute_input": "2023-01-16T21:04:24.227819Z",
     "iopub.status.busy": "2023-01-16T21:04:24.227364Z",
     "iopub.status.idle": "2023-01-16T21:04:24.381702Z",
     "shell.execute_reply": "2023-01-16T21:04:24.380181Z",
     "shell.execute_reply.started": "2023-01-16T21:04:24.227781Z"
    }
   },
   "outputs": [],
   "source": [
    "df[\"card_id\"] = df[\"User\"].astype(str) + \"_\" + df[\"Card\"].astype(str)"
   ]
  },
  {
   "cell_type": "code",
   "execution_count": 7,
   "metadata": {
    "execution": {
     "iopub.execute_input": "2023-01-16T21:04:24.384304Z",
     "iopub.status.busy": "2023-01-16T21:04:24.383425Z",
     "iopub.status.idle": "2023-01-16T21:04:24.393573Z",
     "shell.execute_reply": "2023-01-16T21:04:24.391625Z",
     "shell.execute_reply.started": "2023-01-16T21:04:24.384265Z"
    }
   },
   "outputs": [
    {
     "data": {
      "text/plain": [
       "18199893      $59.18\n",
       "9731325      $280.91\n",
       "536687      $-144.00\n",
       "13223840       $6.76\n",
       "17070521       $9.17\n",
       "Name: Amount, dtype: object"
      ]
     },
     "execution_count": 7,
     "metadata": {},
     "output_type": "execute_result"
    }
   ],
   "source": [
    "df.Amount.head(5)"
   ]
  },
  {
   "cell_type": "code",
   "execution_count": 8,
   "metadata": {
    "execution": {
     "iopub.execute_input": "2023-01-16T21:04:24.396354Z",
     "iopub.status.busy": "2023-01-16T21:04:24.395249Z",
     "iopub.status.idle": "2023-01-16T21:04:24.574714Z",
     "shell.execute_reply": "2023-01-16T21:04:24.573724Z",
     "shell.execute_reply.started": "2023-01-16T21:04:24.396307Z"
    }
   },
   "outputs": [
    {
     "name": "stderr",
     "output_type": "stream",
     "text": [
      "/opt/conda/lib/python3.7/site-packages/ipykernel_launcher.py:2: FutureWarning: The default value of regex will change from True to False in a future version. In addition, single character regular expressions will *not* be treated as literal strings when regex=True.\n",
      "  \n"
     ]
    }
   ],
   "source": [
    "# We need to strip the ‘$’ from the Amount to cast as a float\n",
    "df[\"Amount\"]=df[\"Amount\"].str.replace(\"$\",\"\").astype(float)"
   ]
  },
  {
   "cell_type": "code",
   "execution_count": 9,
   "metadata": {
    "execution": {
     "iopub.execute_input": "2023-01-16T21:04:24.577077Z",
     "iopub.status.busy": "2023-01-16T21:04:24.575790Z",
     "iopub.status.idle": "2023-01-16T21:04:24.745287Z",
     "shell.execute_reply": "2023-01-16T21:04:24.743972Z",
     "shell.execute_reply.started": "2023-01-16T21:04:24.576900Z"
    }
   },
   "outputs": [],
   "source": [
    "# time can't be casted to int so so opted to extract the hour and minute\n",
    "df[\"Hour\"] = df[\"Time\"].str [0:2]\n",
    "df[\"Minute\"] = df[\"Time\"].str [3:5]"
   ]
  },
  {
   "cell_type": "code",
   "execution_count": 10,
   "metadata": {
    "execution": {
     "iopub.execute_input": "2023-01-16T21:04:24.747613Z",
     "iopub.status.busy": "2023-01-16T21:04:24.747153Z",
     "iopub.status.idle": "2023-01-16T21:04:24.758257Z",
     "shell.execute_reply": "2023-01-16T21:04:24.756259Z",
     "shell.execute_reply.started": "2023-01-16T21:04:24.747539Z"
    }
   },
   "outputs": [
    {
     "data": {
      "text/plain": [
       "18199893    00\n",
       "9731325     22\n",
       "536687      07\n",
       "13223840    14\n",
       "17070521    11\n",
       "            ..\n",
       "3028639     20\n",
       "11275290    14\n",
       "1327632     11\n",
       "2929345     09\n",
       "4816941     11\n",
       "Name: Hour, Length: 100000, dtype: object"
      ]
     },
     "execution_count": 10,
     "metadata": {},
     "output_type": "execute_result"
    }
   ],
   "source": [
    "df.Hour"
   ]
  },
  {
   "cell_type": "code",
   "execution_count": 11,
   "metadata": {
    "execution": {
     "iopub.execute_input": "2023-01-16T21:04:24.765446Z",
     "iopub.status.busy": "2023-01-16T21:04:24.764947Z",
     "iopub.status.idle": "2023-01-16T21:04:24.921271Z",
     "shell.execute_reply": "2023-01-16T21:04:24.919646Z",
     "shell.execute_reply.started": "2023-01-16T21:04:24.765408Z"
    }
   },
   "outputs": [
    {
     "data": {
      "text/plain": [
       "18199893    11\n",
       "9731325     12\n",
       "536687      07\n",
       "13223840    58\n",
       "17070521    44\n",
       "            ..\n",
       "3028639     37\n",
       "11275290    12\n",
       "1327632     15\n",
       "2929345     51\n",
       "4816941     08\n",
       "Name: Minute, Length: 100000, dtype: object"
      ]
     },
     "execution_count": 11,
     "metadata": {},
     "output_type": "execute_result"
    }
   ],
   "source": [
    "df.Minute"
   ]
  },
  {
   "cell_type": "code",
   "execution_count": 12,
   "metadata": {
    "execution": {
     "iopub.execute_input": "2023-01-16T21:04:24.923964Z",
     "iopub.status.busy": "2023-01-16T21:04:24.923441Z",
     "iopub.status.idle": "2023-01-16T21:04:25.062506Z",
     "shell.execute_reply": "2023-01-16T21:04:25.060936Z",
     "shell.execute_reply.started": "2023-01-16T21:04:24.923909Z"
    }
   },
   "outputs": [
    {
     "name": "stdout",
     "output_type": "stream",
     "text": [
      "<class 'pandas.core.frame.DataFrame'>\n",
      "Int64Index: 100000 entries, 18199893 to 4816941\n",
      "Data columns (total 15 columns):\n",
      " #   Column          Non-Null Count   Dtype  \n",
      "---  ------          --------------   -----  \n",
      " 0   Year            100000 non-null  int64  \n",
      " 1   Month           100000 non-null  int64  \n",
      " 2   Day             100000 non-null  int64  \n",
      " 3   Amount          100000 non-null  float64\n",
      " 4   Use Chip        100000 non-null  object \n",
      " 5   Merchant Name   100000 non-null  int64  \n",
      " 6   Merchant City   100000 non-null  object \n",
      " 7   Merchant State  88782 non-null   object \n",
      " 8   Zip             88134 non-null   float64\n",
      " 9   MCC             100000 non-null  int64  \n",
      " 10  Errors?         1576 non-null    object \n",
      " 11  Is Fraud?       100000 non-null  object \n",
      " 12  card_id         100000 non-null  object \n",
      " 13  Hour            100000 non-null  object \n",
      " 14  Minute          100000 non-null  object \n",
      "dtypes: float64(2), int64(5), object(8)\n",
      "memory usage: 12.2+ MB\n"
     ]
    }
   ],
   "source": [
    "df = df.drop([\"Time\",\"User\",\"Card\"],axis=1)\n",
    "df.info()"
   ]
  },
  {
   "cell_type": "code",
   "execution_count": 13,
   "metadata": {
    "execution": {
     "iopub.execute_input": "2023-01-16T21:04:25.064933Z",
     "iopub.status.busy": "2023-01-16T21:04:25.064389Z",
     "iopub.status.idle": "2023-01-16T21:04:25.079731Z",
     "shell.execute_reply": "2023-01-16T21:04:25.077960Z",
     "shell.execute_reply.started": "2023-01-16T21:04:25.064892Z"
    }
   },
   "outputs": [
    {
     "data": {
      "text/plain": [
       "array([nan, 'Bad PIN', 'Insufficient Balance', 'Technical Glitch',\n",
       "       'Bad Card Number', 'Bad CVV', 'Bad Expiration', 'Bad Zipcode',\n",
       "       'Insufficient Balance,Technical Glitch', 'Bad Card Number,Bad CVV',\n",
       "       'Bad CVV,Insufficient Balance',\n",
       "       'Bad Card Number,Insufficient Balance'], dtype=object)"
      ]
     },
     "execution_count": 13,
     "metadata": {},
     "output_type": "execute_result"
    }
   ],
   "source": [
    "df[\"Errors?\"].unique()"
   ]
  },
  {
   "cell_type": "code",
   "execution_count": 14,
   "metadata": {
    "execution": {
     "iopub.execute_input": "2023-01-16T21:04:25.081579Z",
     "iopub.status.busy": "2023-01-16T21:04:25.081141Z",
     "iopub.status.idle": "2023-01-16T21:04:25.098267Z",
     "shell.execute_reply": "2023-01-16T21:04:25.096603Z",
     "shell.execute_reply.started": "2023-01-16T21:04:25.081535Z"
    }
   },
   "outputs": [],
   "source": [
    "df[\"Errors?\"]= df[\"Errors?\"].fillna(\"No error\")"
   ]
  },
  {
   "cell_type": "markdown",
   "metadata": {},
   "source": [
    "The two columns Zip and Merchant state contains missing values which can affect our graph. Moreover these information can be extracted from the column Merchant City so we will drop them."
   ]
  },
  {
   "cell_type": "code",
   "execution_count": 15,
   "metadata": {
    "execution": {
     "iopub.execute_input": "2023-01-16T21:04:25.100600Z",
     "iopub.status.busy": "2023-01-16T21:04:25.100132Z",
     "iopub.status.idle": "2023-01-16T21:04:25.129311Z",
     "shell.execute_reply": "2023-01-16T21:04:25.128080Z",
     "shell.execute_reply.started": "2023-01-16T21:04:25.100563Z"
    }
   },
   "outputs": [],
   "source": [
    "df = df.drop(columns=[\"Merchant State\",\"Zip\"],axis=1)"
   ]
  },
  {
   "cell_type": "code",
   "execution_count": 16,
   "metadata": {
    "execution": {
     "iopub.execute_input": "2023-01-16T21:04:25.131409Z",
     "iopub.status.busy": "2023-01-16T21:04:25.131026Z",
     "iopub.status.idle": "2023-01-16T21:04:25.193513Z",
     "shell.execute_reply": "2023-01-16T21:04:25.192070Z",
     "shell.execute_reply.started": "2023-01-16T21:04:25.131375Z"
    }
   },
   "outputs": [],
   "source": [
    "# change the is fraud column to binary \n",
    "df[\"Is Fraud?\"] = df[\"Is Fraud?\"].apply(lambda x: 1 if x == 'Yes' else 0)"
   ]
  },
  {
   "cell_type": "code",
   "execution_count": 17,
   "metadata": {
    "execution": {
     "iopub.execute_input": "2023-01-16T21:04:25.195994Z",
     "iopub.status.busy": "2023-01-16T21:04:25.195485Z",
     "iopub.status.idle": "2023-01-16T21:04:25.339333Z",
     "shell.execute_reply": "2023-01-16T21:04:25.338041Z",
     "shell.execute_reply.started": "2023-01-16T21:04:25.195927Z"
    }
   },
   "outputs": [],
   "source": [
    "df[\"Merchant City\"]=LabelEncoder().fit_transform(df[\"Merchant City\"])\n",
    "df[\"Use Chip\"]=LabelEncoder().fit_transform(df[\"Use Chip\"])\n",
    "df[\"Errors?\"]=LabelEncoder().fit_transform(df[\"Errors?\"])"
   ]
  },
  {
   "cell_type": "code",
   "execution_count": 18,
   "metadata": {
    "execution": {
     "iopub.execute_input": "2023-01-16T21:04:25.341534Z",
     "iopub.status.busy": "2023-01-16T21:04:25.341182Z",
     "iopub.status.idle": "2023-01-16T21:04:25.353390Z",
     "shell.execute_reply": "2023-01-16T21:04:25.351930Z",
     "shell.execute_reply.started": "2023-01-16T21:04:25.341502Z"
    }
   },
   "outputs": [
    {
     "data": {
      "text/plain": [
       "array([10,  6,  8, 11,  2,  0,  5,  7,  9,  3,  1,  4])"
      ]
     },
     "execution_count": 18,
     "metadata": {},
     "output_type": "execute_result"
    }
   ],
   "source": [
    "df[\"Errors?\"].unique()"
   ]
  },
  {
   "cell_type": "code",
   "execution_count": 19,
   "metadata": {
    "execution": {
     "iopub.execute_input": "2023-01-16T21:04:25.355589Z",
     "iopub.status.busy": "2023-01-16T21:04:25.355142Z",
     "iopub.status.idle": "2023-01-16T21:04:25.391559Z",
     "shell.execute_reply": "2023-01-16T21:04:25.389950Z",
     "shell.execute_reply.started": "2023-01-16T21:04:25.355554Z"
    }
   },
   "outputs": [
    {
     "name": "stdout",
     "output_type": "stream",
     "text": [
      "<class 'pandas.core.frame.DataFrame'>\n",
      "Int64Index: 100000 entries, 18199893 to 4816941\n",
      "Data columns (total 13 columns):\n",
      " #   Column         Non-Null Count   Dtype  \n",
      "---  ------         --------------   -----  \n",
      " 0   Year           100000 non-null  int64  \n",
      " 1   Month          100000 non-null  int64  \n",
      " 2   Day            100000 non-null  int64  \n",
      " 3   Amount         100000 non-null  float64\n",
      " 4   Use Chip       100000 non-null  int64  \n",
      " 5   Merchant Name  100000 non-null  int64  \n",
      " 6   Merchant City  100000 non-null  int64  \n",
      " 7   MCC            100000 non-null  int64  \n",
      " 8   Errors?        100000 non-null  int64  \n",
      " 9   Is Fraud?      100000 non-null  int64  \n",
      " 10  card_id        100000 non-null  object \n",
      " 11  Hour           100000 non-null  object \n",
      " 12  Minute         100000 non-null  object \n",
      "dtypes: float64(1), int64(9), object(3)\n",
      "memory usage: 10.7+ MB\n"
     ]
    }
   ],
   "source": [
    "df.info()"
   ]
  },
  {
   "cell_type": "markdown",
   "metadata": {},
   "source": [
    "## GNN for fraud detection:\n",
    "Creating a multigraph for fraud detection using transaction data and applying a Graph Neural Network (GNN) on the edge list can be done in the following steps:\n",
    "\n",
    "1. Prepare the transaction data: Collect and organize the transaction data into a format that can be used to create the edges of the multigraph. For example, each transaction could be represented as a tuple (node1, node2, attributes), where node1 and node2 represent the sender and receiver of the transaction, and attributes is a dictionary containing properties such as the amount, timestamp, and transaction type.\n",
    "\n",
    "2. Create the multigraph: Use the transaction data to create a multigraph using the NetworkX library. The add_edge() method can be used to add edges to the multigraph, where each edge represents a transaction.\n",
    "\n",
    "3. Extract the edges list and their features: Use the edges() method of the multigraph to extract the edges list and their features, which will be used as input to the GNN.\n",
    "\n",
    "4. Apply a GNN on the edge list: Use a GNN library such as PyTorch Geometric, Deep Graph Library (DGL) or Spektral to apply a GNN on the edge list. The GNN will learn representations of the edges in the multigraph and use them to classify the edges as fraudulent or non-fraudulent.\n",
    "\n",
    "5. Evaluation: To evaluate the performance of the GNN, you can split the data into train and test sets, and use the test set to evaluate the accuracy, precision, recall, and F1-score of the model."
   ]
  },
  {
   "cell_type": "markdown",
   "metadata": {},
   "source": [
    "### Graph construction \n",
    "\n",
    "When constructing a graph with transaction edges between card_id and merchant_name, the first step is to identify the nodes in the graph. In this case, the card_id and merchant_name represent the nodes in the graph. Each card_id represents a unique credit card and each merchant_name represents a unique merchant. These nodes can be created by extracting the card_id and merchant_name information from the tabular data and storing them in separate lists.\n",
    "\n",
    "Once the nodes have been identified, the next step is to create edges between them. These edges represent the transactions that have taken place between a card_id and a merchant_name. To create the edges, a list of transactions is created and for each transaction, an edge is created between the card_id and merchant_name.\n"
   ]
  },
  {
   "cell_type": "markdown",
   "metadata": {},
   "source": [
    "### Method 1"
   ]
  },
  {
   "attachments": {
    "7787e1f7-3e13-44c0-9ddb-2e4d67d20c13.png": {
     "image/png": "[encoded data removed]"
    }
   },
   "cell_type": "markdown",
   "metadata": {},
   "source": [
    "We are creating an empty multigraph object called G using the nx.MultiGraph() function from the NetworkX library. Then we add nodes to the graph for each unique card_id and merchant_name from the dataframe df.\n",
    "\n",
    "The add_nodes_from method is used to add nodes to the graph, it takes an iterable as input and creates a node for each element in the iterable. The df[\"card_id\"].unique() will return a list of unique card_ids in the dataframe, and the df[\"Merchant Name\"].unique will return a list of all the merchant names in the dataframe.\n",
    "\n",
    "The type attribute is added to each node, it is used to differentiate between card_id and merchant_name nodes. This will help later on when we want to analyze the graph.\n",
    "\n",
    "**Why did we use a multigraph and not graph?**\n",
    "\n",
    "The same user (card_id) can buy from the same merchant (Merchant Name) multiple times, so we can have multiple edges between the user and the merchant and for this reason we used multigraph instead of graph \n",
    "\n",
    "  ![image.png](attachment:7787e1f7-3e13-44c0-9ddb-2e4d67d20c13.png)\n"
   ]
  },
  {
   "cell_type": "code",
   "execution_count": 21,
   "metadata": {
    "execution": {
     "iopub.execute_input": "2023-01-16T21:04:59.101133Z",
     "iopub.status.busy": "2023-01-16T21:04:59.099780Z",
     "iopub.status.idle": "2023-01-16T21:04:59.147377Z",
     "shell.execute_reply": "2023-01-16T21:04:59.146367Z",
     "shell.execute_reply.started": "2023-01-16T21:04:59.101074Z"
    }
   },
   "outputs": [],
   "source": [
    "# Create an empty graph\n",
    "G = nx.MultiGraph()\n",
    "\n",
    "# Add nodes to the graph for each unique card_id, merchant_name\n",
    "G.add_nodes_from(df[\"card_id\"].unique(), type='card_id')\n",
    "G.add_nodes_from(df[\"Merchant Name\"].unique(), type='merchant_name')\n"
   ]
  },
  {
   "cell_type": "markdown",
   "metadata": {},
   "source": [
    "The code below adding edges and properties to the edges of a graph. The code iterates through each row of the dataframe, df, and creates a variable for each property then assign it to the edge between the card_id and merchant_name of that row."
   ]
  },
  {
   "cell_type": "code",
   "execution_count": 22,
   "metadata": {
    "execution": {
     "iopub.execute_input": "2023-01-16T21:04:59.150566Z",
     "iopub.status.busy": "2023-01-16T21:04:59.149502Z",
     "iopub.status.idle": "2023-01-16T21:05:11.197027Z",
     "shell.execute_reply": "2023-01-16T21:05:11.195877Z",
     "shell.execute_reply.started": "2023-01-16T21:04:59.150526Z"
    }
   },
   "outputs": [],
   "source": [
    "# Add edges and properties to the edges \n",
    "for _, row in df.iterrows():\n",
    "    # Create a variable for each properties for each edge\n",
    "    \n",
    "        year = row[\"Year\"],\n",
    "        month = row[\"Month\"],\n",
    "        day = row[\"Day\"],\n",
    "        hour = row[\"Hour\"],\n",
    "        minute =row[\"Minute\"],\n",
    "        amount = row[\"Amount\"],\n",
    "        use_chip =  row[\"Use Chip\"],\n",
    "        merchant_city = row[\"Merchant City\"],\n",
    "        errors =  row[\"Errors?\"],\n",
    "        mcc = row['MCC']\n",
    "    \n",
    " \n",
    "        G.add_edge(row['card_id'], row['Merchant Name'], year = year , month = month , day = day ,\n",
    "              hour = hour , minute = minute , amount = amount , use_chip = use_chip ,\n",
    "              merchant_city = merchant_city , errors = errors , mcc = mcc)\n",
    "  \n"
   ]
  },
  {
   "cell_type": "code",
   "execution_count": 23,
   "metadata": {
    "execution": {
     "iopub.execute_input": "2023-01-16T21:05:11.200279Z",
     "iopub.status.busy": "2023-01-16T21:05:11.198964Z",
     "iopub.status.idle": "2023-01-16T21:05:11.260184Z",
     "shell.execute_reply": "2023-01-16T21:05:11.259136Z",
     "shell.execute_reply.started": "2023-01-16T21:05:11.200228Z"
    }
   },
   "outputs": [
    {
     "name": "stdout",
     "output_type": "stream",
     "text": [
      "Number of nodes: 16415\n",
      "Number of edges: 100000\n"
     ]
    }
   ],
   "source": [
    "# Get the number of nodes and edges in the graph\n",
    "num_nodes = G.number_of_nodes()\n",
    "num_edges = G.number_of_edges()\n",
    "\n",
    "# Print the number of nodes and edges\n",
    "print(\"Number of nodes:\", num_nodes)\n",
    "print(\"Number of edges:\", num_edges)"
   ]
  },
  {
   "cell_type": "code",
   "execution_count": 25,
   "metadata": {
    "execution": {
     "iopub.execute_input": "2023-01-16T21:05:56.996797Z",
     "iopub.status.busy": "2023-01-16T21:05:56.996370Z",
     "iopub.status.idle": "2023-01-16T21:05:57.823056Z",
     "shell.execute_reply": "2023-01-16T21:05:57.821824Z",
     "shell.execute_reply.started": "2023-01-16T21:05:56.996759Z"
    }
   },
   "outputs": [],
   "source": [
    "# Convert the graph to an adjacency matrix\n",
    "adj_matrix = nx.adjacency_matrix(G).todense()"
   ]
  },
  {
   "cell_type": "code",
   "execution_count": 26,
   "metadata": {
    "execution": {
     "iopub.execute_input": "2023-01-16T21:05:57.825732Z",
     "iopub.status.busy": "2023-01-16T21:05:57.825182Z",
     "iopub.status.idle": "2023-01-16T21:05:57.833229Z",
     "shell.execute_reply": "2023-01-16T21:05:57.831790Z",
     "shell.execute_reply.started": "2023-01-16T21:05:57.825696Z"
    }
   },
   "outputs": [
    {
     "data": {
      "text/plain": [
       "(16415, 16415)"
      ]
     },
     "execution_count": 26,
     "metadata": {},
     "output_type": "execute_result"
    }
   ],
   "source": [
    "adj_matrix.shape"
   ]
  },
  {
   "cell_type": "markdown",
   "metadata": {},
   "source": [
    "We will retrieve the properties of a small sample of **nodes** in our graph (G) and print their properties."
   ]
  },
  {
   "cell_type": "code",
   "execution_count": 27,
   "metadata": {
    "execution": {
     "iopub.execute_input": "2023-01-16T21:05:57.836497Z",
     "iopub.status.busy": "2023-01-16T21:05:57.835126Z",
     "iopub.status.idle": "2023-01-16T21:05:57.860033Z",
     "shell.execute_reply": "2023-01-16T21:05:57.858785Z",
     "shell.execute_reply.started": "2023-01-16T21:05:57.836446Z"
    }
   },
   "outputs": [
    {
     "name": "stdout",
     "output_type": "stream",
     "text": [
      "Node: 1470_0, Properties: card_id\n",
      "Node: 822_1, Properties: card_id\n",
      "Node: 41_3, Properties: card_id\n",
      "Node: 1084_0, Properties: card_id\n",
      "Node: 1384_0, Properties: card_id\n",
      "Node: 55_3, Properties: card_id\n",
      "Node: 776_0, Properties: card_id\n",
      "Node: 66_0, Properties: card_id\n",
      "Node: 1880_2, Properties: card_id\n",
      "Node: 490_5, Properties: card_id\n"
     ]
    }
   ],
   "source": [
    "# Get a small sample of the nodes in the graph\n",
    "sample_nodes = list(G.nodes())[:10]\n",
    "\n",
    "# Retrieve the properties of the sample nodes\n",
    "node_properties = nx.get_node_attributes(G, 'type')\n",
    "\n",
    "# Print the properties of the sample nodes\n",
    "for node in sample_nodes:\n",
    "    print(f\"Node: {node}, Properties: {node_properties[node]}\")\n"
   ]
  },
  {
   "cell_type": "code",
   "execution_count": 28,
   "metadata": {
    "execution": {
     "iopub.execute_input": "2023-01-16T21:05:57.862762Z",
     "iopub.status.busy": "2023-01-16T21:05:57.862402Z",
     "iopub.status.idle": "2023-01-16T21:05:57.870056Z",
     "shell.execute_reply": "2023-01-16T21:05:57.868163Z",
     "shell.execute_reply.started": "2023-01-16T21:05:57.862730Z"
    }
   },
   "outputs": [
    {
     "name": "stdout",
     "output_type": "stream",
     "text": [
      "{0: {'year': (2019,), 'month': (7,), 'day': (10,), 'hour': ('00',), 'minute': ('11',), 'amount': (59.18,), 'use_chip': (0,), 'merchant_city': (1890,), 'errors': (10,), 'mcc': 5813}, 1: {'year': (2019,), 'month': (10,), 'day': (1,), 'hour': ('00',), 'minute': ('22',), 'amount': (91.4,), 'use_chip': (0,), 'merchant_city': (1890,), 'errors': (10,), 'mcc': 5813}, 2: {'year': (2011,), 'month': (9,), 'day': (27,), 'hour': ('00',), 'minute': ('00',), 'amount': (64.21,), 'use_chip': (2,), 'merchant_city': (1890,), 'errors': (10,), 'mcc': 5813}, 3: {'year': (2011,), 'month': (11,), 'day': (11,), 'hour': ('00',), 'minute': ('04',), 'amount': (64.36,), 'use_chip': (2,), 'merchant_city': (1890,), 'errors': (10,), 'mcc': 5813}, 4: {'year': (2009,), 'month': (11,), 'day': (25,), 'hour': ('00',), 'minute': ('18',), 'amount': (52.75,), 'use_chip': (2,), 'merchant_city': (1890,), 'errors': (10,), 'mcc': 5813}}\n",
      "{0: {'year': (2019,), 'month': (7,), 'day': (10,), 'hour': ('00',), 'minute': ('11',), 'amount': (59.18,), 'use_chip': (0,), 'merchant_city': (1890,), 'errors': (10,), 'mcc': 5813}, 1: {'year': (2019,), 'month': (10,), 'day': (1,), 'hour': ('00',), 'minute': ('22',), 'amount': (91.4,), 'use_chip': (0,), 'merchant_city': (1890,), 'errors': (10,), 'mcc': 5813}, 2: {'year': (2011,), 'month': (9,), 'day': (27,), 'hour': ('00',), 'minute': ('00',), 'amount': (64.21,), 'use_chip': (2,), 'merchant_city': (1890,), 'errors': (10,), 'mcc': 5813}, 3: {'year': (2011,), 'month': (11,), 'day': (11,), 'hour': ('00',), 'minute': ('04',), 'amount': (64.36,), 'use_chip': (2,), 'merchant_city': (1890,), 'errors': (10,), 'mcc': 5813}, 4: {'year': (2009,), 'month': (11,), 'day': (25,), 'hour': ('00',), 'minute': ('18',), 'amount': (52.75,), 'use_chip': (2,), 'merchant_city': (1890,), 'errors': (10,), 'mcc': 5813}}\n",
      "{0: {'year': (2019,), 'month': (7,), 'day': (10,), 'hour': ('00',), 'minute': ('11',), 'amount': (59.18,), 'use_chip': (0,), 'merchant_city': (1890,), 'errors': (10,), 'mcc': 5813}, 1: {'year': (2019,), 'month': (10,), 'day': (1,), 'hour': ('00',), 'minute': ('22',), 'amount': (91.4,), 'use_chip': (0,), 'merchant_city': (1890,), 'errors': (10,), 'mcc': 5813}, 2: {'year': (2011,), 'month': (9,), 'day': (27,), 'hour': ('00',), 'minute': ('00',), 'amount': (64.21,), 'use_chip': (2,), 'merchant_city': (1890,), 'errors': (10,), 'mcc': 5813}, 3: {'year': (2011,), 'month': (11,), 'day': (11,), 'hour': ('00',), 'minute': ('04',), 'amount': (64.36,), 'use_chip': (2,), 'merchant_city': (1890,), 'errors': (10,), 'mcc': 5813}, 4: {'year': (2009,), 'month': (11,), 'day': (25,), 'hour': ('00',), 'minute': ('18',), 'amount': (52.75,), 'use_chip': (2,), 'merchant_city': (1890,), 'errors': (10,), 'mcc': 5813}}\n",
      "{0: {'year': (2019,), 'month': (7,), 'day': (10,), 'hour': ('00',), 'minute': ('11',), 'amount': (59.18,), 'use_chip': (0,), 'merchant_city': (1890,), 'errors': (10,), 'mcc': 5813}, 1: {'year': (2019,), 'month': (10,), 'day': (1,), 'hour': ('00',), 'minute': ('22',), 'amount': (91.4,), 'use_chip': (0,), 'merchant_city': (1890,), 'errors': (10,), 'mcc': 5813}, 2: {'year': (2011,), 'month': (9,), 'day': (27,), 'hour': ('00',), 'minute': ('00',), 'amount': (64.21,), 'use_chip': (2,), 'merchant_city': (1890,), 'errors': (10,), 'mcc': 5813}, 3: {'year': (2011,), 'month': (11,), 'day': (11,), 'hour': ('00',), 'minute': ('04',), 'amount': (64.36,), 'use_chip': (2,), 'merchant_city': (1890,), 'errors': (10,), 'mcc': 5813}, 4: {'year': (2009,), 'month': (11,), 'day': (25,), 'hour': ('00',), 'minute': ('18',), 'amount': (52.75,), 'use_chip': (2,), 'merchant_city': (1890,), 'errors': (10,), 'mcc': 5813}}\n",
      "{0: {'year': (2019,), 'month': (7,), 'day': (10,), 'hour': ('00',), 'minute': ('11',), 'amount': (59.18,), 'use_chip': (0,), 'merchant_city': (1890,), 'errors': (10,), 'mcc': 5813}, 1: {'year': (2019,), 'month': (10,), 'day': (1,), 'hour': ('00',), 'minute': ('22',), 'amount': (91.4,), 'use_chip': (0,), 'merchant_city': (1890,), 'errors': (10,), 'mcc': 5813}, 2: {'year': (2011,), 'month': (9,), 'day': (27,), 'hour': ('00',), 'minute': ('00',), 'amount': (64.21,), 'use_chip': (2,), 'merchant_city': (1890,), 'errors': (10,), 'mcc': 5813}, 3: {'year': (2011,), 'month': (11,), 'day': (11,), 'hour': ('00',), 'minute': ('04',), 'amount': (64.36,), 'use_chip': (2,), 'merchant_city': (1890,), 'errors': (10,), 'mcc': 5813}, 4: {'year': (2009,), 'month': (11,), 'day': (25,), 'hour': ('00',), 'minute': ('18',), 'amount': (52.75,), 'use_chip': (2,), 'merchant_city': (1890,), 'errors': (10,), 'mcc': 5813}}\n"
     ]
    }
   ],
   "source": [
    "sample_size = 5\n",
    "for i, edge in enumerate(G.edges()):\n",
    "    print(G.get_edge_data(*edge))\n",
    "    if i >= sample_size - 1:\n",
    "        break"
   ]
  },
  {
   "cell_type": "markdown",
   "metadata": {},
   "source": [
    "We will retrieve the properties of a small sample of **edges** in our graph (G) and print their properties."
   ]
  },
  {
   "cell_type": "code",
   "execution_count": 29,
   "metadata": {
    "execution": {
     "iopub.execute_input": "2023-01-16T21:05:57.872391Z",
     "iopub.status.busy": "2023-01-16T21:05:57.871964Z",
     "iopub.status.idle": "2023-01-16T21:05:58.134277Z",
     "shell.execute_reply": "2023-01-16T21:05:58.133092Z",
     "shell.execute_reply.started": "2023-01-16T21:05:57.872358Z"
    }
   },
   "outputs": [
    {
     "name": "stdout",
     "output_type": "stream",
     "text": [
      "Property value: (10,), Count: 98424\n",
      "Property value: (8,), Count: 1003\n",
      "Property value: (6,), Count: 228\n",
      "Property value: (5,), Count: 44\n",
      "Property value: (0,), Count: 42\n",
      "Property value: (11,), Count: 195\n",
      "Property value: (2,), Count: 50\n",
      "Property value: (4,), Count: 2\n",
      "Property value: (1,), Count: 1\n",
      "Property value: (9,), Count: 3\n",
      "Property value: (7,), Count: 7\n",
      "Property value: (3,), Count: 1\n"
     ]
    }
   ],
   "source": [
    "# Retrieve the properties errors of all the edges\n",
    "edge_properties = nx.get_edge_attributes(G, 'errors')\n",
    "\n",
    "# Count the number of edges by property value\n",
    "edge_count_by_property = Counter(edge_properties.values())\n",
    "\n",
    "# Print the count of edges by property value\n",
    "for property_value, count in edge_count_by_property.items():\n",
    "    print(f\"Property value: {property_value}, Count: {count}\")\n"
   ]
  },
  {
   "cell_type": "code",
   "execution_count": 30,
   "metadata": {
    "execution": {
     "iopub.execute_input": "2023-01-16T21:05:58.136545Z",
     "iopub.status.busy": "2023-01-16T21:05:58.136192Z",
     "iopub.status.idle": "2023-01-16T21:05:58.387685Z",
     "shell.execute_reply": "2023-01-16T21:05:58.386486Z",
     "shell.execute_reply.started": "2023-01-16T21:05:58.136505Z"
    }
   },
   "outputs": [],
   "source": [
    "# Prepare the data for input into the model\n",
    "edge_list = list(G.edges(data=True))"
   ]
  },
  {
   "cell_type": "code",
   "execution_count": 31,
   "metadata": {
    "execution": {
     "iopub.execute_input": "2023-01-16T21:05:58.390302Z",
     "iopub.status.busy": "2023-01-16T21:05:58.389431Z",
     "iopub.status.idle": "2023-01-16T21:05:58.398607Z",
     "shell.execute_reply": "2023-01-16T21:05:58.397775Z",
     "shell.execute_reply.started": "2023-01-16T21:05:58.390255Z"
    }
   },
   "outputs": [
    {
     "data": {
      "text/plain": [
       "[(2009,), (11,), (25,), ('00',), ('18',), (52.75,), (2,), (1890,), (10,), 5813]"
      ]
     },
     "execution_count": 31,
     "metadata": {},
     "output_type": "execute_result"
    }
   ],
   "source": [
    "list(edge_list[i][2].values())"
   ]
  },
  {
   "cell_type": "markdown",
   "metadata": {},
   "source": [
    "We define a PyTorch neural network model called \"FraudGNN\" which is a type of Graph Neural Network. The model is a simple feedforward neural network with two fully connected (Linear) layers. The first layer has input_dim number of input units and hidden_dim number of output units, while the second layer has hidden_dim number of input units and 1 output unit.\n",
    "The forward function of the model applies the linear layers to the input tensor \"x\" and applies a ReLU activation function to the output of the first linear layer.\n",
    "\n",
    "We also prepare data for input into the model. We define the variable \"edge_list\" which is a list of edges and their associated data in a graph G. Then we create an empty list called \"x\" and iterates over each edge in the edge_list. For each edge, it extracts the values of the edge data, converts them to floats if needed, and append them to the list \"x\". Finally, we convert the list \"x\" to a PyTorch tensor with float datatype, which is ready to be input into the FraudGNN model."
   ]
  },
  {
   "cell_type": "code",
   "execution_count": 51,
   "metadata": {
    "execution": {
     "iopub.execute_input": "2023-01-16T21:22:49.199526Z",
     "iopub.status.busy": "2023-01-16T21:22:49.199098Z",
     "iopub.status.idle": "2023-01-16T21:22:50.703386Z",
     "shell.execute_reply": "2023-01-16T21:22:50.702210Z",
     "shell.execute_reply.started": "2023-01-16T21:22:49.199494Z"
    }
   },
   "outputs": [],
   "source": [
    "class FraudGNN(nn.Module):\n",
    "    def __init__(self, input_dim, hidden_dim):\n",
    "        super(FraudGNN, self).__init__()\n",
    "        self.fc1 = nn.Linear(input_dim, hidden_dim)\n",
    "        self.fc2 = nn.Linear(hidden_dim, 1)\n",
    "        \n",
    "    def forward(self, x):\n",
    "        x = self.fc1(x)\n",
    "        x = F.relu(x)\n",
    "        x = self.fc2(x)\n",
    "        return x.squeeze(-1)\n",
    "\n",
    "# Prepare the data for input into the model\n",
    "edge_list = list(G.edges(data=True))\n",
    "x = []\n",
    "for edge in edge_list:\n",
    "    edge_values = list(edge[2].values())\n",
    "    edge_values = [float(i[0]) if type(i) == tuple and type(i[0]) == str else i[0] if type(i) == tuple else i for i in edge_values]\n",
    "    x.append(edge_values)\n",
    "x = torch.tensor(x, dtype=torch.float)"
   ]
  },
  {
   "cell_type": "code",
   "execution_count": 52,
   "metadata": {
    "execution": {
     "iopub.execute_input": "2023-01-16T21:22:52.214265Z",
     "iopub.status.busy": "2023-01-16T21:22:52.213847Z",
     "iopub.status.idle": "2023-01-16T21:22:52.220759Z",
     "shell.execute_reply": "2023-01-16T21:22:52.219048Z",
     "shell.execute_reply.started": "2023-01-16T21:22:52.214232Z"
    }
   },
   "outputs": [],
   "source": [
    "target = torch.tensor(df['Is Fraud?'].values, dtype=torch.float)"
   ]
  },
  {
   "cell_type": "code",
   "execution_count": 53,
   "metadata": {
    "execution": {
     "iopub.execute_input": "2023-01-16T21:22:55.479953Z",
     "iopub.status.busy": "2023-01-16T21:22:55.479572Z",
     "iopub.status.idle": "2023-01-16T21:22:55.486403Z",
     "shell.execute_reply": "2023-01-16T21:22:55.485519Z",
     "shell.execute_reply.started": "2023-01-16T21:22:55.479922Z"
    }
   },
   "outputs": [],
   "source": [
    "# Define the model\n",
    "input_dim = len(x[0])\n",
    "hidden_dim = 16\n",
    "model = FraudGNN(input_dim, hidden_dim)\n",
    "num_epochs=201\n",
    "\n",
    "# Define the loss function and optimizer\n",
    "criterion = nn.BCEWithLogitsLoss()\n",
    "optimizer = torch.optim.Adam(model.parameters(), lr=0.01)"
   ]
  },
  {
   "cell_type": "code",
   "execution_count": 54,
   "metadata": {
    "execution": {
     "iopub.execute_input": "2023-01-16T21:22:58.153084Z",
     "iopub.status.busy": "2023-01-16T21:22:58.151218Z",
     "iopub.status.idle": "2023-01-16T21:23:02.723745Z",
     "shell.execute_reply": "2023-01-16T21:23:02.722551Z",
     "shell.execute_reply.started": "2023-01-16T21:22:58.153021Z"
    }
   },
   "outputs": [
    {
     "name": "stdout",
     "output_type": "stream",
     "text": [
      "Epoch: 0, Loss: 75.2183837890625\n",
      "Epoch: 20, Loss: 2.2274389266967773\n",
      "Epoch: 40, Loss: 2.2073874473571777\n",
      "Epoch: 60, Loss: 1.6753615140914917\n",
      "Epoch: 80, Loss: 0.3633090555667877\n",
      "Epoch: 100, Loss: 0.2249840497970581\n",
      "Epoch: 120, Loss: 0.15104109048843384\n",
      "Epoch: 140, Loss: 0.08912204951047897\n",
      "Epoch: 160, Loss: 0.07886513322591782\n",
      "Epoch: 180, Loss: 0.0715927705168724\n",
      "Epoch: 200, Loss: 0.0727226585149765\n"
     ]
    }
   ],
   "source": [
    "# Train the model\n",
    "for i in range(num_epochs):\n",
    "    # Forward pass\n",
    "    output = model(x)\n",
    "    # Compute the loss\n",
    "    loss = criterion(output, target)\n",
    "    if i % 20 == 0:\n",
    "        print(f'Epoch: {i}, Loss: {loss.item()}')\n",
    "    # Zero the gradients\n",
    "    optimizer.zero_grad()\n",
    "    # Perform backpropagation\n",
    "    loss.backward()\n",
    "    # Update the parameters\n",
    "    optimizer.step()"
   ]
  },
  {
   "cell_type": "markdown",
   "metadata": {},
   "source": [
    "### Method 2 "
   ]
  },
  {
   "cell_type": "markdown",
   "metadata": {},
   "source": [
    "In this part we will base our work on the [paper](https://www.sciencedirect.com/science/article/abs/pii/S0957417421017449) **Inductive Graph Representation Learning for fraud detection** written by RafaëlVan Belle, Charles Van Damme, Hendrik Tytgat and JochenDe Weerdt. \n",
    "\n",
    "Charles has created a python library with the name of inductiveGRL for the experimental setup of their paper. \n",
    "\n",
    "Library overview :\n",
    "\n",
    "1. Transaction Data\n",
    "Any dataset that can be transformed into a graph can be used in our experimental setup. For our research, we used a real-life dataset to construct credit card transaction networks containing millions of transactions. This dataset includes information on the following features: anonymized identification of clients and merchants, merchant category code, country, monetary amount, time, acceptance, and fraud label. This real-life dataset is highly imbalanced and contains only 0.65% fraudulent transactions. Note that the demo data in this repository is artificaly generated for demonstration purposes. The Timeframes component derives the different timeframes for a rolling window setup given a step and window size.\n",
    "\n",
    "2. Graph Construction\n",
    "The GraphConstruction component constructs the graphs that will be used by graph representation learners (e.g. FI-GRL and GraphSAGE) to learn node embeddings. We designed the credit card transaction networks as heterogeneous tripartite graphs containing client, merchant and transaction nodes. Because of this tripartite setup, representations can be learned for the transaction nodes. Only the transaction nodes are configured with node features.\n",
    "\n",
    "3. GraphSAGE\n",
    "The HinSAGE code deploys a supervised, heterogeneous implementation of the GraphSAGE framework called HinSAGE, to learn embeddings of the transaction nodes in the aforementioned graphs.\n",
    "\n",
    "4. FI-GRL\n",
    "The FIGRL code learns embeddings of the transaction nodes in the aforementioned graphs using the Fast Inductive Graph Representation Learning Framework. We call the Matlab implementation of FI-GRL from our Jupyter notebooks, which requires an appropriate installation of matlab.engine in the same folder as the notebooks. If you wish to run FI-GRL from Python, please run the following command in Matlab:\n",
    "\n",
    "cd (fullfile(matlabroot,'extern','engines','python'))\n",
    "system('python setup.py install')\n",
    "\n",
    "This will generate a folder in matlabroot\\extern\\engines\\python\\build\\lib called 'matlab' please copy this folder and place it on the same location as the notebook from which you want to call matlab.engine. If you don't know your matlab root, running 'matlabroot' in Matlab will return the appropriate path.\n",
    "\n",
    "5. Classifier\n",
    "The penultimate component in our pipeline uses the transaction node embeddings to classify the transaction nodes as fraudulent or legitimate. We chose to rely on XGBoost as a classification model, but other classifiers can easily be implemented.\n",
    "\n",
    "6. Evaluation\n",
    "The Evaluation component contains functions for the Lift score, Lift curve and precision-recall curve. We focused on these evaluation metrics given the highly imbalanced nature of our dataset. However, this code can easily be extended to contain other evaluation metrics such as ROC plots."
   ]
  },
  {
   "cell_type": "code",
   "execution_count": 43,
   "metadata": {
    "execution": {
     "iopub.execute_input": "2023-01-16T21:09:41.672131Z",
     "iopub.status.busy": "2023-01-16T21:09:41.671665Z",
     "iopub.status.idle": "2023-01-16T21:09:47.765858Z",
     "shell.execute_reply": "2023-01-16T21:09:47.764945Z",
     "shell.execute_reply.started": "2023-01-16T21:09:41.672086Z"
    }
   },
   "outputs": [
    {
     "name": "stderr",
     "output_type": "stream",
     "text": [
      "2023-01-16 21:09:47.733429: I tensorflow/core/common_runtime/process_util.cc:146] Creating new thread pool with default inter op setting: 2. Tune using inter_op_parallelism_threads for best performance.\n"
     ]
    }
   ],
   "source": [
    "# necessary imports of this part\n",
    "from inductiveGRL.graphconstruction import GraphConstruction\n",
    "from inductiveGRL.hinsage import HinSAGE_Representation_Learner"
   ]
  },
  {
   "cell_type": "code",
   "execution_count": 44,
   "metadata": {
    "execution": {
     "iopub.execute_input": "2023-01-16T21:09:47.771863Z",
     "iopub.status.busy": "2023-01-16T21:09:47.769820Z",
     "iopub.status.idle": "2023-01-16T21:09:47.780728Z",
     "shell.execute_reply": "2023-01-16T21:09:47.778742Z",
     "shell.execute_reply.started": "2023-01-16T21:09:47.771823Z"
    }
   },
   "outputs": [],
   "source": [
    "# Global parameters:\n",
    "embedding_size = 64\n",
    "add_additional_data = True"
   ]
  },
  {
   "cell_type": "markdown",
   "metadata": {},
   "source": [
    "We will split our data 70% to train_data and 30% for inductive data that will be used to test the model's ability to generalize to new, unseen data.\n",
    "\n",
    "First we calculate the cutoff point for the split using the formula \"cutoff = round(0.7*len(df))\" where 0.7 represents 70% of the data, and len(df) is the total number of rows in the dataframe. The round function is used to round the cutoff point to the nearest whole number.\n",
    "\n",
    "Second we assign the first \"cutoff\" rows of the dataframe to the variable \"train_data\" by calling the head() function on the dataframe and passing the cutoff point as an argument. These rows will be used as the training data.\n",
    "\n",
    "Last we assign the remaining rows of the dataframe (the rows after the cutoff point) to the variable \"inductive_data\" by calling the tail() function on the dataframe and passing the number of remaining rows (len(df) - cutoff) as an argument. These rows will be used as the inductive data."
   ]
  },
  {
   "cell_type": "code",
   "execution_count": 45,
   "metadata": {
    "execution": {
     "iopub.execute_input": "2023-01-16T21:09:47.784848Z",
     "iopub.status.busy": "2023-01-16T21:09:47.784038Z",
     "iopub.status.idle": "2023-01-16T21:09:47.801896Z",
     "shell.execute_reply": "2023-01-16T21:09:47.800276Z",
     "shell.execute_reply.started": "2023-01-16T21:09:47.784790Z"
    }
   },
   "outputs": [],
   "source": [
    "# we will take 70% of our dataset as traindata\n",
    "cutoff = round(0.7*len(df)) \n",
    "train_data = df.head(cutoff)\n",
    "inductive_data = df.tail(len(df)-cutoff)"
   ]
  },
  {
   "cell_type": "code",
   "execution_count": 46,
   "metadata": {
    "execution": {
     "iopub.execute_input": "2023-01-16T21:09:47.804188Z",
     "iopub.status.busy": "2023-01-16T21:09:47.803762Z",
     "iopub.status.idle": "2023-01-16T21:09:47.818779Z",
     "shell.execute_reply": "2023-01-16T21:09:47.817788Z",
     "shell.execute_reply.started": "2023-01-16T21:09:47.804148Z"
    }
   },
   "outputs": [
    {
     "name": "stdout",
     "output_type": "stream",
     "text": [
      "The distribution of fraud for the train data is:\n",
      " 0    69919\n",
      "1       81\n",
      "Name: Is Fraud?, dtype: int64\n",
      "The distribution of fraud for the inductive data is:\n",
      " 0    29964\n",
      "1       36\n",
      "Name: Is Fraud?, dtype: int64\n"
     ]
    }
   ],
   "source": [
    "print('The distribution of fraud for the train data is:\\n', train_data['Is Fraud?'].value_counts())\n",
    "print('The distribution of fraud for the inductive data is:\\n', inductive_data['Is Fraud?'].value_counts())"
   ]
  },
  {
   "cell_type": "markdown",
   "metadata": {},
   "source": [
    "#### Graphe construction "
   ]
  },
  {
   "cell_type": "markdown",
   "metadata": {},
   "source": [
    "We will create a graph from a train_data using the GraphConstruction class. First we create the dataframes for the node data, second we define the nodes and edges, third  we create a dictionary of features, and finally we create a graph object, and calls the get_stellargraph() method to get the StellarGraph object."
   ]
  },
  {
   "cell_type": "code",
   "execution_count": 47,
   "metadata": {
    "execution": {
     "iopub.execute_input": "2023-01-16T21:09:47.820745Z",
     "iopub.status.busy": "2023-01-16T21:09:47.819916Z",
     "iopub.status.idle": "2023-01-16T21:09:49.986630Z",
     "shell.execute_reply": "2023-01-16T21:09:49.985174Z",
     "shell.execute_reply.started": "2023-01-16T21:09:47.820707Z"
    }
   },
   "outputs": [
    {
     "name": "stdout",
     "output_type": "stream",
     "text": [
      "StellarGraph: Undirected multigraph\n",
      " Nodes: 84186, Edges: 140000\n",
      "\n",
      " Node types:\n",
      "  transaction: [70000]\n",
      "    Features: float32 vector, length 10\n",
      "    Edge types: transaction-default->client, transaction-default->merchant\n",
      "  merchant: [9305]\n",
      "    Features: float32 vector, length 1\n",
      "    Edge types: merchant-default->transaction\n",
      "  client: [4881]\n",
      "    Features: float32 vector, length 1\n",
      "    Edge types: client-default->transaction\n",
      "\n",
      " Edge types:\n",
      "    merchant-default->transaction: [70000]\n",
      "        Weights: all 1 (default)\n",
      "        Features: none\n",
      "    client-default->transaction: [70000]\n",
      "        Weights: all 1 (default)\n",
      "        Features: none\n"
     ]
    }
   ],
   "source": [
    "transaction_node_data = train_data.drop(\"card_id\", axis=1).drop(\"Merchant Name\", axis=1).drop('Is Fraud?', axis=1)\n",
    "client_node_data = pd.DataFrame([1]*len(train_data[\"card_id\"].unique())).set_index(train_data[\"card_id\"].unique())\n",
    "merchant_node_data = pd.DataFrame([1]*len(train_data[\"Merchant Name\"].unique())).set_index(train_data[\"Merchant Name\"].unique())\n",
    "\n",
    "nodes = {\"client\":train_data.card_id, \"merchant\":train_data[\"Merchant Name\"], \"transaction\":train_data.index}\n",
    "edges = [zip(train_data.card_id, train_data.index),zip(train_data[\"Merchant Name\"], train_data.index)]\n",
    "features = {\"transaction\": transaction_node_data, 'client': client_node_data, 'merchant': merchant_node_data}\n",
    "\n",
    "graph = GraphConstruction(nodes, edges, features)\n",
    "S = graph.get_stellargraph()\n",
    "print(S.info())"
   ]
  },
  {
   "cell_type": "code",
   "execution_count": 48,
   "metadata": {
    "execution": {
     "iopub.execute_input": "2023-01-16T21:09:49.989169Z",
     "iopub.status.busy": "2023-01-16T21:09:49.988488Z",
     "iopub.status.idle": "2023-01-16T21:22:25.952671Z",
     "shell.execute_reply": "2023-01-16T21:22:25.951482Z",
     "shell.execute_reply.started": "2023-01-16T21:09:49.989130Z"
    }
   },
   "outputs": [
    {
     "name": "stderr",
     "output_type": "stream",
     "text": [
      "/opt/conda/lib/python3.7/site-packages/keras/optimizer_v2/optimizer_v2.py:356: UserWarning: The `lr` argument is deprecated, use `learning_rate` instead.\n",
      "  \"The `lr` argument is deprecated, use `learning_rate` instead.\")\n",
      "2023-01-16 21:09:51.615930: I tensorflow/compiler/mlir/mlir_graph_optimization_pass.cc:185] None of the MLIR Optimization Passes are enabled (registered 2)\n"
     ]
    },
    {
     "name": "stdout",
     "output_type": "stream",
     "text": [
      "Epoch 1/10\n",
      "11200/11200 [==============================] - 59s 5ms/step - loss: 0.0141 - val_loss: 0.0084\n",
      "Epoch 2/10\n",
      "11200/11200 [==============================] - 54s 5ms/step - loss: 0.0092 - val_loss: 0.0083\n",
      "Epoch 3/10\n",
      "11200/11200 [==============================] - 55s 5ms/step - loss: 0.0091 - val_loss: 0.0084\n",
      "Epoch 4/10\n",
      "11200/11200 [==============================] - 53s 5ms/step - loss: 0.0090 - val_loss: 0.0083\n",
      "Epoch 5/10\n",
      "11200/11200 [==============================] - 60s 5ms/step - loss: 0.0090 - val_loss: 0.0083\n",
      "Epoch 6/10\n",
      "11200/11200 [==============================] - 57s 5ms/step - loss: 0.0088 - val_loss: 0.0085\n",
      "Epoch 7/10\n",
      "11200/11200 [==============================] - 58s 5ms/step - loss: 0.0088 - val_loss: 0.0085\n",
      "Epoch 8/10\n",
      "11200/11200 [==============================] - 57s 5ms/step - loss: 0.0088 - val_loss: 0.0082\n",
      "Epoch 9/10\n",
      "11200/11200 [==============================] - 60s 5ms/step - loss: 0.0087 - val_loss: 0.0082\n",
      "Epoch 10/10\n",
      "11200/11200 [==============================] - 62s 5ms/step - loss: 0.0087 - val_loss: 0.0083\n"
     ]
    }
   ],
   "source": [
    "#GraphSAGE parameters\n",
    "num_samples = [2,32]\n",
    "embedding_node_type = \"transaction\"\n",
    "\n",
    "hinsage = HinSAGE_Representation_Learner(embedding_size, num_samples, embedding_node_type)\n",
    "trained_hinsage_model, train_emb = hinsage.train_hinsage(S, list(train_data.index), train_data['Is Fraud?'], batch_size=5, epochs=10)"
   ]
  }
 ],
 "metadata": {
  "kernelspec": {
   "display_name": "Python 3 (ipykernel)",
   "language": "python",
   "name": "python3"
  },
  "language_info": {
   "codemirror_mode": {
    "name": "ipython",
    "version": 3
   },
   "file_extension": ".py",
   "mimetype": "text/x-python",
   "name": "python",
   "nbconvert_exporter": "python",
   "pygments_lexer": "ipython3",
   "version": "3.11.3"
  }
 },
 "nbformat": 4,
 "nbformat_minor": 4
}
